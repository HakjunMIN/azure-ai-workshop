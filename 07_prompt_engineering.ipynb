{
 "cells": [
  {
   "cell_type": "code",
   "execution_count": 1,
   "metadata": {},
   "outputs": [],
   "source": [
    "import re\n",
    "import requests\n",
    "import sys\n",
    "import os\n",
    "from openai import AzureOpenAI\n",
    "import tiktoken\n",
    "from dotenv import load_dotenv\n",
    "load_dotenv()\n",
    "\n",
    "client = AzureOpenAI(\n",
    "  azure_endpoint = os.getenv(\"AZURE_OPENAI_ENDPOINT\"), \n",
    "  api_key=os.getenv(\"AZURE_OPENAI_KEY\"),  \n",
    "  api_version=\"2024-02-15-preview\"\n",
    ")\n",
    "\n",
    "CHAT_COMPLETIONS_MODEL = os.getenv('AZURE_OPENAI_DEPLOYMENT_NAME')"
   ]
  },
  {
   "cell_type": "markdown",
   "metadata": {},
   "source": [
    "# A Few Shot Learning"
   ]
  },
  {
   "cell_type": "code",
   "execution_count": 2,
   "metadata": {},
   "outputs": [
    {
     "name": "stdout",
     "output_type": "stream",
     "text": [
      "😍,👏,✨\n"
     ]
    }
   ],
   "source": [
    "# Zero-shot classification\n",
    "system_prompt =\"\"\"Predict up to 5 emojis as a response to a text chat message. The output\n",
    "should only include emojis.\n",
    "\n",
    "input: The new visual design is blowing my mind 🤯\n",
    "output: ➕,💘, ❤‍🔥\n",
    "\n",
    "input: Well that looks great regardless\n",
    "output: ❤️,🪄\n",
    "\n",
    "input: Unfortunately this won't work\n",
    "output: 💔,😔\n",
    "\n",
    "input: sounds good, I'll look into that\n",
    "output: 🙏,👍\n",
    "\n",
    "input: 10hr cut of jeff goldblum laughing URL\n",
    "output: 😂,💀,⚰️\n",
    "\"\"\"\n",
    "user_prompt = \"The new user interface is amazing!\"\n",
    "response = client.chat.completions.create(\n",
    "    model=CHAT_COMPLETIONS_MODEL,\n",
    "    messages = [{\"role\":\"system\", \"content\":system_prompt},\n",
    "                {\"role\":\"user\",\"content\": user_prompt,}])\n",
    "print(response.choices[0].message.content)"
   ]
  },
  {
   "cell_type": "markdown",
   "metadata": {},
   "source": [
    "# 프롬프트 엔지니어링 모범 사례\n",
    "\n",
    "## 명확한 지침 작성\n",
    "\n",
    "예시:\n",
    "\n",
    "-----------------------\n",
    "프롬프트:\n",
    "\n",
    "피보나치 수열을 계산하는 코드를 작성하세요.\n",
    "\n",
    "더 나은 프롬프트:\n",
    "\n",
    "피보나치 수열을 효율적으로 계산하는 TypeScript 함수를 작성하세요. 각 부분이 무엇을 하고 왜 그렇게 작성되었는지 설명하는 주석을 충분히 추가하세요.\n",
    "\n",
    "----------------------\n",
    "\n",
    "프롬프트:\n",
    "\n",
    "회의록을 요약하세요.\n",
    "\n",
    "더 나은 프롬프트:\n",
    "\n",
    "회의록을 한 문단으로 요약하세요. 그런 다음 발표자와 각 발표자의 주요 요점을 나열한 마크다운 목록을 작성하세요. 마지막으로 발표자가 제안한 다음 단계나 실행 항목이 있다면 이를 나열하세요.\n"
   ]
  },
  {
   "cell_type": "markdown",
   "metadata": {},
   "source": [
    "## 역할 놀이\n",
    "\n",
    "예시:\n",
    "\n",
    "-----------------------\n",
    "\n",
    "시스템 메시지: 내가 무언가를 작성하는 데 도움을 요청하면, 당신은 모든 문단에 적어도 하나의 농담이나 장난스러운 댓글이 포함된 문서를 작성하여 응답할 것입니다.\n",
    "\n",
    "----------------------\n"
   ]
  },
  {
   "cell_type": "markdown",
   "metadata": {},
   "source": [
    "## 입력 텍스트 분할\n",
    "\n",
    "예시:\n",
    "\n",
    "------------------------\n",
    "\n",
    "사용자 메시지: 세 개의 큰따옴표로 구분된 텍스트를 하이쿠로 요약하세요.\n",
    "\n",
    "\"\"\"여기에 텍스트를 삽입하세요\"\"\"\n",
    "\n",
    "------------------------\n",
    "\n",
    "시스템 메시지: 동일한 주제에 대한 두 개의 기사(XML 태그로 구분됨)가 제공됩니다. 먼저 각 기사의 주장을 요약하세요. 그런 다음 어떤 기사가 더 나은 주장을 펼치는지와 그 이유를 설명하세요.\n",
    "\n",
    "사용자 메시지:\n",
    "\n",
    "\\<article> 첫 번째 기사를 여기에 삽입하세요 \\</article>\n",
    "\n",
    "\\<article> 두 번째 기사를 여기에 삽입하세요 \\</article>\n",
    "\n",
    "------------------------"
   ]
  },
  {
   "cell_type": "markdown",
   "metadata": {},
   "source": [
    "## 작업을 완료하기 위한 단계와 프로세스 설명\n",
    "\n",
    "예시:\n",
    "\n",
    "--------------------------------\n",
    "\n",
    "시스템 메시지:\n",
    "다음 단계별 지침을 사용하여 사용자 입력에 응답하세요.\n",
    "\n",
    "1단계 - 사용자가 세 개의 큰따옴표로 구분된 텍스트를 제공합니다. 이 텍스트를 \"요약:\"이라는 접두어와 함께 한 문장으로 요약하세요.\n",
    "\n",
    "2단계 - 1단계의 요약을 스페인어로 번역하고 \"번역:\"이라는 접두어를 추가하세요.\n",
    "\n",
    "---------------------------------"
   ]
  },
  {
   "cell_type": "markdown",
   "metadata": {},
   "source": [
    "## 몇 샷 학습 사용\n",
    "\n"
   ]
  },
  {
   "cell_type": "markdown",
   "metadata": {},
   "source": []
  }
 ],
 "metadata": {
  "kernelspec": {
   "display_name": ".venv",
   "language": "python",
   "name": "python3"
  },
  "language_info": {
   "codemirror_mode": {
    "name": "ipython",
    "version": 3
   },
   "file_extension": ".py",
   "mimetype": "text/x-python",
   "name": "python",
   "nbconvert_exporter": "python",
   "pygments_lexer": "ipython3",
   "version": "3.12.5"
  },
  "orig_nbformat": 4
 },
 "nbformat": 4,
 "nbformat_minor": 2
}
