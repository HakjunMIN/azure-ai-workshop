{
 "cells": [
  {
   "cell_type": "markdown",
   "id": "138d2cb2",
   "metadata": {},
   "source": [
    "# Azure AI Agent Service with Bing Grounding\n",
    "\n",
    "이 노트북은 Azure AI Agent Service와 Bing Grounding Tool을 활용하여, 사용자 질문에 대해 Bing 검색 결과를 기반으로 답변을 생성하는 예제를 다룹니다.\n",
    "\n",
    "## 주요 내용\n",
    "\n",
    "- Azure AI Project Client와 Bing Grounding Tool을 초기화합니다.\n",
    "- Bing 연결 정보를 불러와서 Grounding Tool을 구성합니다.\n",
    "- 사용자 프롬프트(질문)를 입력하면, Bing 검색을 활용한 답변을 생성하는 Agent를 동적으로 생성하고 실행합니다.\n",
    "- 각 질문에 대해 에이전트의 답변과 참고한 URL 정보를 출력합니다.\n",
    "\n",
    "이 과정을 통해, 실제 Bing 검색 결과를 기반으로 한 최신 정보 답변을 Azure AI Agent를 통해 자동화하는 방법을 실습할 수 있습니다.\n",
    "\n",
    "\n",
    "\n"
   ]
  },
  {
   "cell_type": "code",
   "execution_count": 48,
   "id": "5623f0df",
   "metadata": {},
   "outputs": [],
   "source": [
    "import os\n",
    "from azure.ai.projects import AIProjectClient\n",
    "from azure.identity import DefaultAzureCredential\n",
    "from azure.ai.projects.models import MessageRole, BingGroundingTool\n",
    "from dotenv import load_dotenv\n",
    "from IPython.display import Markdown, display\n",
    "from openai import AzureOpenAI\n",
    "import json\n",
    "load_dotenv(override=True, dotenv_path=\"../.env\")\n",
    "\n",
    "credential = DefaultAzureCredential()\n"
   ]
  },
  {
   "cell_type": "code",
   "execution_count": 43,
   "id": "e22fbd6e",
   "metadata": {},
   "outputs": [
    {
     "name": "stdout",
     "output_type": "stream",
     "text": [
      "/subscriptions/ef750ece-3939-4a4b-ade4-cae9eabcf312/resourceGroups/rg-writer/providers/Microsoft.MachineLearningServices/workspaces/ai-project-q4u67epqs2xo4/connections/agentbingsearch\n"
     ]
    }
   ],
   "source": [
    "project_client = AIProjectClient.from_connection_string(\n",
    "    credential=credential,\n",
    "    conn_str=os.environ[\"AZURE_AI_PROJECT_CONNECTION_STRING\"],\n",
    ")\n",
    "\n",
    "bing_connection = project_client.connections.get(\n",
    "    connection_name=os.environ[\"BING_CONNECTION_NAME\"],\n",
    "    include_credentials=True\n",
    ")\n",
    "conn_id = bing_connection.id\n",
    "\n",
    "print(conn_id)\n",
    "\n",
    "bing = BingGroundingTool(connection_id=conn_id)\n",
    "\n",
    "def populate_answer_agent_with_bing_grounding_tool(prompt: str, project_client: AIProjectClient, bing):\n",
    "    agent = project_client.agents.create_agent(\n",
    "        model=os.environ[\"AZURE_OPENAI_DEPLOYMENT_NAME\"],\n",
    "        name=\"my-assistant\",\n",
    "        instructions=\"너는 삼성전자 제품 관련 정보를 제공하는 챗봇이야. 답변은 마크다운으로 작성해줘.\",\n",
    "        tools=bing.definitions,\n",
    "        headers={\"x-ms-enable-preview\": \"true\"},\n",
    "        top_p=0.9,\n",
    "    )\n",
    "\n",
    "    thread = project_client.agents.create_thread()\n",
    "\n",
    "    project_client.agents.create_message(\n",
    "        thread_id=thread.id,\n",
    "        role=MessageRole.USER,\n",
    "        content=prompt,\n",
    "        \n",
    "    )\n",
    "\n",
    "    run = project_client.agents.create_and_process_run(thread_id=thread.id, agent_id=agent.id, max_completion_tokens=1500)\n",
    "\n",
    "    if run.status == \"failed\":\n",
    "        print(f\"Run failed: {run.last_error}\")\n",
    "\n",
    "    project_client.agents.delete_agent(agent.id)\n",
    "    response_message = project_client.agents.list_messages(thread_id=thread.id).get_last_message_by_role(\n",
    "        MessageRole.AGENT\n",
    "    )\n",
    "\n",
    "    return  response_message\n",
    "\n",
    "\n",
    "\n",
    "def display_markdown_content(content: str):\n",
    "    display(Markdown(content))"
   ]
  },
  {
   "cell_type": "code",
   "execution_count": null,
   "id": "5e939bf5",
   "metadata": {},
   "outputs": [
    {
     "name": "stdout",
     "output_type": "stream",
     "text": [
      "User input: 삼성전자 제품 중 2구 말고 다른 인덕션 추천해줘\n"
     ]
    },
    {
     "data": {
      "text/markdown": [
       "삼성전자 인덕션 제품 중에서 2구 모델이 아닌 3구 이상 또는 다양한 화구 수를 가진 인덕션 제품을 추천해 드리겠습니다. 삼성전자 인덕션은 화구 수와 기능에 따라 다양하게 출시되어 주방 환경과 요리 스타일에 맞게 선택할 수 있습니다.\n",
       "\n",
       "### 1. 삼성전자 인덕션 3구 모델 (예: NZ63R3707BK)\n",
       "- **주요 기능**\n",
       "  - 3개의 화구로 동시 조리 가능, 대가족이나 다양한 요리 시 편리\n",
       "  - 인공지능 센서 탑재로 최적화된 화력 조절\n",
       "  - 프리존 기능: 넓은 공간을 자유롭게 활용 가능\n",
       "  - 잔열 표시 및 자동 안전 차단 기능 내장\n",
       "- **장점**\n",
       "  - 다양한 크기 용기 사용 가능\n",
       "  - 높은 효율의 열 전달로 빠른 조리 시간\n",
       "  - 안전성과 편의성을 모두 갖춤\n",
       "\n",
       "### 2. 삼성전자 인덕션 4구 모델 (예: NZ64R5707FK)\n",
       "- **주요 기능**\n",
       "  - 4개의 독립 화구로 대용량 요리 가능\n",
       "  - 스마트 터치 컨트롤로 직관적 조작\n",
       "  - 고화력 버너 포함, 빠른 가열 가능\n",
       "  - 타이머, 예약 기능 내장\n",
       "- **장점**\n",
       "  - 대가족 및 요리량이 많은 사용자에게 적합\n",
       "  - 다양한 요리 동시 진행으로 시간 절약\n",
       "  - 디자인이 깔끔하고 세련되어 주방 인테리어에 어울림\n",
       "\n",
       "### 3. 삼성전자 인덕션 5구 이상 모델 (예: NZ75R8707GK)\n",
       "- **주요 기능**\n",
       "  - 5구 이상의 대형 인덕션으로 프로페셔널한 요리 환경 제공\n",
       "  - 멀티존 지원으로 다양한 크기와 형태의 조리기구 호환\n",
       "  - 스마트 연동 기능으로 IoT 제어 가능 (스마트홈 연동)\n",
       "  - 고급 안전 기능과 자동 청소 모드\n",
       "- **장점**\n",
       "  - 전문 요리사나 요리 애호가에게 이상적\n",
       "  - 다양한 조리 옵션과 편리한 관리 기능\n",
       "  - 주방 전체를 하나의 요리 스테이션으로 활용 가능\n",
       "\n",
       "---\n",
       "\n",
       "이 외에도 삼성전자는 다양한 크기와 기능의 인덕션 모델을 출시하고 있어, 사용자의 주방 크기와 조리 습관에 맞춘 최적의 선택이 가능합니다. 필요하시면 구체적인 모델별 비교와 구매처 안내도 도와드릴 수 있습니다."
      ],
      "text/plain": [
       "<IPython.core.display.Markdown object>"
      ]
     },
     "metadata": {},
     "output_type": "display_data"
    },
    {
     "name": "stdout",
     "output_type": "stream",
     "text": [
      "User input: 부모님에게 선물하고 싶은데 삼성전자 TV 추천해줘\n"
     ]
    },
    {
     "data": {
      "text/markdown": [
       "부모님께 선물하기 좋은 삼성전자 TV를 추천드리겠습니다. 부모님 사용에 적합한 TV는 적당한 크기, 뛰어난 화질, 편리한 기능을 갖춘 제품이 좋습니다. 다음은 추천 모델과 주요 특징입니다.\n",
       "\n",
       "---\n",
       "\n",
       "### 1. 삼성전자 QN90B Neo QLED 4K 스마트 TV\n",
       "\n",
       "- **화질**: Neo QLED 기술로 선명하고 생생한 4K 화질 제공. 미니 LED 백라이트로 깊은 명암비와 풍부한 색감이 특징.\n",
       "- **크기**: 43~65인치 등 다양한 크기 옵션으로 공간에 맞게 선택 가능. 부모님 방이나 거실에 맞는 적당한 크기 선택 가능.\n",
       "- **기능**:\n",
       "  - 스마트 TV 기능으로 유튜브, 넷플릭스 등 다양한 OTT 서비스 손쉽게 이용 가능.\n",
       "  - 음성 인식 리모컨 지원으로 리모컨 버튼 찾기 어려운 분들도 간편 조작.\n",
       "  - 눈 건강을 고려한 눈부심 방지 기술 탑재.\n",
       "- **장점**: 뛰어난 화질과 사용자 편의성, 고급스러운 디자인으로 부모님 TV로 적합.\n",
       "\n",
       "---\n",
       "\n",
       "### 2. 삼성전자 The Frame 43~55인치\n",
       "\n",
       "- **화질**: QLED 4K 화질로 선명하고 자연스러운 색감을 제공.\n",
       "- **크기**: 43~55인치 크기 선택 가능, 방이나 거실에 적합한 크기.\n",
       "- **기능**:\n",
       "  - TV를 껐을 때는 명화나 사진 액자처럼 인테리어 효과를 주는 '아트 모드' 탑재.\n",
       "  - 슬림한 디자인과 벽걸이 설치 가능, 공간 활용에 좋음.\n",
       "  - 스마트 TV 기능과 음성 제어 지원.\n",
       "- **장점**: TV 겸 인테리어 효과로 집안 분위기 살리고 싶은 분께 추천.\n",
       "\n",
       "---\n",
       "\n",
       "### 3. 삼성전자 AU8000 Crystal UHD TV\n",
       "\n",
       "- **화질**: Crystal UHD 4K 화질로 선명하고 깨끗한 화면 제공.\n",
       "- **크기**: 43~65인치 다양한 크기.\n",
       "- **기능**:\n",
       "  - 심플하고 직관적인 스마트 TV 인터페이스로 부모님도 쉽게 사용 가능.\n",
       "  - 음성 리모컨 지원, 주요 OTT 앱 내장.\n",
       "  - 슬림한 디자인과 넓은 시야각.\n",
       "- **장점**: 가성비 좋은 4K TV로, 기본기에 충실해 부담 없이 선물하기 좋은 모델.\n",
       "\n",
       "---\n",
       "\n",
       "### 요약\n",
       "\n",
       "| 모델명                 | 크기 옵션       | 주요 특징                         | 추천 이유                       |\n",
       "|-----------------------|----------------|---------------------------------|------------------------------|\n",
       "| QN90B Neo QLED        | 43~65인치      | 미니 LED, 뛰어난 명암비, 스마트 기능 | 고급 화질과 편리함 선호 시       |\n",
       "| The Frame             | 43~55인치      | 아트 모드, 인테리어 효과, QLED 4K | 인테리어와 기능 모두 원하는 분께 |\n",
       "| AU8000 Crystal UHD    | 43~65인치      | 가성비 좋은 4K, 심플 UI         | 가격 부담 적고 기본기 충실한 TV |\n",
       "\n",
       "---\n",
       "\n",
       "부모님께서 TV를 주로 어디에 두시는지, 크기 선호, 특별히 원하시는 기능이 있는지 알려주시면 더 맞춤 추천도 가능합니다. 필요하면 추가 안내 드릴게요!"
      ],
      "text/plain": [
       "<IPython.core.display.Markdown object>"
      ]
     },
     "metadata": {},
     "output_type": "display_data"
    },
    {
     "name": "stdout",
     "output_type": "stream",
     "text": [
      "User input: 삼성전자 25년 제품이 작년 대비 좋아진것은\n"
     ]
    },
    {
     "data": {
      "text/markdown": [
       "삼성전자의 2025년 제품은 2024년 제품 대비 다음과 같은 주요 개선점과 향상된 부분들이 있습니다:\n",
       "\n",
       "1. **스마트폰 부문**  \n",
       "   - 2025년 갤럭시 S24 시리즈가 출시되며 AI 기술이 강조되었습니다. AI 칩 설계 스타트업 2곳을 인수하여 AI 성능 및 기능이 크게 향상되었습니다.  \n",
       "   - 폴더블폰 생산량을 700만대로 확대하는 등 폴더블 스마트폰 시장에서도 강화를 시도하고 있습니다.  \n",
       "   - 전반적으로 플래그십 스마트폰 판매가 호조를 보이고 있으며, 고부가 가치 제품 중심으로 매출이 증가했습니다.\n",
       "\n",
       "2. **디스플레이**  \n",
       "   - 프리미엄 OLED 디스플레이 신규 라인이 가동되어 디스플레이 품질과 생산 능력이 개선되었습니다.\n",
       "\n",
       "3. **반도체 부문**  \n",
       "   - AI 및 서버용 고수익 제품 중심으로 사업 포트폴리오를 조정하며 수익성을 높이고 있습니다.  \n",
       "   - HBM(고대역폭 메모리) 수요 증가에 대응하는 기술 개발과 생산 확대가 이루어지고 있습니다.\n",
       "\n",
       "4. **디자인 및 기능 개선**  \n",
       "   - AI 통합 및 스마트 기능 향상에 중점을 두어 제품 사용 편의성과 성능이 개선되었습니다.  \n",
       "   - 프리미엄 가전 제품과 스마트폰의 디자인 및 기능도 업그레이드되어 전반적인 사용자 경험이 향상되었습니다.\n",
       "\n",
       "5. **매출 및 시장 경쟁력**  \n",
       "   - 2025년 1분기 삼성전자 전체 매출이 전분기 대비 4% 증가하며 사상 최대 분기 매출을 기록, 2024년 대비 성장세가 이어지고 있습니다.  \n",
       "   - 특히 DX(Device eXperience) 부문에서 스마트폰과 가전 제품의 판매 확대가 두드러졌습니다.\n",
       "\n",
       "요약하면, 2025년 삼성전자 제품은 AI 기술 통합 강화, 프리미엄 OLED 디스플레이 생산 확대, 반도체 고수익 제품 집중, 폴더블폰 생산 확대 등을 통해 2024년 대비 성능과 기능 면에서 크게 개선되었습니다. 디자인 측면에서도 프리미엄 제품 라인업을 중심으로 세련되고 혁신적인 변화를 이루었습니다.\n",
       "\n",
       "더 궁금한 점 있으시면 알려주세요!  \n",
       "\n",
       "출처:  \n",
       "- 삼성전자 2025년 1분기 실적 및 신제품 발표 내용, 삼성 뉴스룸  \n",
       "- 삼성전자 기업 분석 및 시장 전망, tistory.com, naver.com 블로그 등 종합 분석   "
      ],
      "text/plain": [
       "<IPython.core.display.Markdown object>"
      ]
     },
     "metadata": {},
     "output_type": "display_data"
    },
    {
     "name": "stdout",
     "output_type": "stream",
     "text": [
      "User input: 삼성전자 JBL과 하만카돈 차이점이 뭐야\n"
     ]
    },
    {
     "data": {
      "text/markdown": [
       "삼성전자가 소유한 오디오 브랜드인 JBL과 하만카돈(Harman Kardon)은 모두 하만 인터내셔널(Harman International)이 소유한 브랜드이며, 하만은 삼성전자가 2017년에 인수한 회사입니다. 두 브랜드는 모두 고품질 오디오 제품을 생산하지만, 제품군, 음향 특성, 기술적 포커스, 그리고 브랜드 이미지 및 타겟 소비자층에 있어 차이가 있습니다.\n",
       "\n",
       "---\n",
       "\n",
       "## 1. 브랜드 개요 및 소유\n",
       "\n",
       "- **JBL**  \n",
       "  - 하만 인터내셔널 소유의 대중적 오디오 브랜드  \n",
       "  - 삼성전자 하만 인수 후 함께 포함됨  \n",
       "  - 주로 다용도, 휴대용 스피커, 프로 오디오 장비까지 다양한 제품군 보유  \n",
       "\n",
       "- **하만카돈 (Harman Kardon)**  \n",
       "  - 하만의 고급 오디오 브랜드 중 하나  \n",
       "  - 프리미엄 홈 오디오, 카 오디오, 사운드바 등에 주력  \n",
       "  - 세련된 디자인과 고급스러운 사운드 경험 제공에 집중  \n",
       "\n",
       "---\n",
       "\n",
       "## 2. 제품군 집중\n",
       "\n",
       "| 브랜드 | 주요 제품군 | 특징 및 활용도 |\n",
       "|---------|-------------|----------------|\n",
       "| JBL     | 휴대용 블루투스 스피커, 헤드폰, 프로용 PA 시스템, 자동차 오디오 | 스포츠, 야외 활동용 내구성 좋은 제품부터 콘서트 등 프로페셔널 장비까지 폭넓음 |\n",
       "| 하만카돈 | 홈 오디오 시스템, 사운드바, 앰프, 고급 헤드폰, 자동차 오디오 | 고급스러운 인테리어와 조화를 이루는 디자인, 하이파이 음향에 중점 |\n",
       "\n",
       "---\n",
       "\n",
       "## 3. 음향 특성 및 기술적 차이점\n",
       "\n",
       "- **JBL**  \n",
       "  - 베이스 강화, 강력한 출력, 클리어하고 다이내믹한 사운드  \n",
       "  - 휴대성과 내구성 강조 (방수, 충격 방지 기능 등)  \n",
       "  - 다이나믹 드라이버와 JBL의 특허 기술로 강력한 저음 구현  \n",
       "  - 사운드의 생동감과 파워감에 중점, 실내외 어디서나 활용 가능  \n",
       "\n",
       "- **하만카돈**  \n",
       "  - 중고음의 섬세함과 자연스러운 밸런스가 뛰어남  \n",
       "  - 음향 왜곡 최소화, 고해상도 오디오 재생 지원  \n",
       "  - 프리미엄 사운드에 맞춰 음의 투명성과 공간감 구현  \n",
       "  - 디자인과 소재에서 고급스러움 강조, 하이파이 오디오 애호가 대상  \n",
       "\n",
       "---\n",
       "\n",
       "## 4. 브랜드 이미지 및 타겟 소비자층\n",
       "\n",
       "| 브랜드 | 이미지 | 타겟 소비자 |\n",
       "|---------|---------|-------------|\n",
       "| JBL     | 젊고 활기찬 이미지, 모험적이고 활동적인 라이프스타일에 어울림 | 야외 활동을 즐기거나 대중적인 휴대용 음향기기를 원하는 소비자, 프로 오디오 시장 사용자 |\n",
       "| 하만카돈 | 세련되고 프리미엄 이미지, 인테리어와 조화를 이루는 고급스러운 느낌 | 고품질 사운드와 디자인을 중시하는 홈 오디오 애호가, 프리미엄 자동차 오디오 구매자 |\n",
       "\n",
       "---\n",
       "\n",
       "### 요약\n",
       "\n",
       "- JBL은 **다양한 용도와 환경에서 강력하고 생동감 있는 사운드를 제공**하며, 휴대성과 내구성을 중시하는 제품군이 강점입니다.\n",
       "- 하만카돈은 **세련된 디자인과 음질 밸런스, 자연스러운 음향을 추구하는 프리미엄 브랜드**로서, 고급 홈 오디오와 자동차 오디오에서 특히 두각을 나타냅니다.\n",
       "\n",
       "필요하시면 특정 제품 추천이나 기능 비교도 도와드릴 수 있습니다."
      ],
      "text/plain": [
       "<IPython.core.display.Markdown object>"
      ]
     },
     "metadata": {},
     "output_type": "display_data"
    },
    {
     "name": "stdout",
     "output_type": "stream",
     "text": [
      "User input: 갤럭시 버즈 이어버드 한쪽을 새로 구매했는데 페어링 어떻게 하나요\n"
     ]
    },
    {
     "data": {
      "text/markdown": [
       "갤럭시 버즈 이어버드 한 쪽을 새로 구매하여 기존 이어버드와 함께 정상적으로 페어링하는 방법은 다음과 같습니다. 단계별로 자세히 설명드릴게요.\n",
       "\n",
       "---\n",
       "\n",
       "## 새 이어버드와 기존 이어버드를 양쪽 모두 정상적으로 사용하기 위한 페어링 절차\n",
       "\n",
       "### 1단계: 기존 이어버드와 스마트폰 연결 해제\n",
       "- 기존 갤럭시 버즈가 스마트폰과 연결되어 있다면, 먼저 블루투스 연결을 해제하거나 갤럭시 웨어러블(Galaxy Wearable) 앱에서 기존 버즈 연결을 해제하세요.\n",
       "\n",
       "### 2단계: 양쪽 이어버드를 충전 케이스에 넣기\n",
       "- 기존 이어버드와 새 이어버드를 모두 충전 케이스에 넣고, 케이스 뚜껑을 닫으세요.\n",
       "- 충전 케이스에 이어버드가 제대로 장착되어 있는지 확인합니다.\n",
       "\n",
       "### 3단계: 충전 케이스에서 이어버드 초기화(리셋)\n",
       "- 충전 케이스 뚜껑을 연 상태에서 이어버드를 꺼내지 않고, 케이스의 버튼을 약 7초 이상 눌러 초기화를 진행하세요.\n",
       "- 초기화가 완료되면 이어버드 LED가 깜빡이면서 재설정이 완료됩니다.\n",
       "- (참고: 초기화 방법은 모델에 따라 다를 수 있으니 사용 중인 갤럭시 버즈 모델별 초기화 방법도 확인하세요.)\n",
       "\n",
       "### 4단계: 이어버드 페어링 모드 진입\n",
       "- 이어버드를 케이스에서 꺼내면 자동으로 페어링 모드로 진입합니다.\n",
       "- 스마트폰 블루투스 설정을 열고, ‘Galaxy Buds (모델명)’이 검색되는지 확인하세요.\n",
       "\n",
       "### 5단계: 스마트폰과 이어버드 연결\n",
       "- 검색된 ‘Galaxy Buds (모델명)’를 선택해 페어링합니다.\n",
       "- 갤럭시 웨어러블 앱이 자동 실행되면, 앱 안내에 따라 이어버드 소프트웨어를 업데이트하고 설정을 완료하세요.\n",
       "\n",
       "### 6단계: 양쪽 이어버드 정상 작동 확인\n",
       "- 양쪽 이어버드가 모두 연결되어 소리가 양쪽에서 잘 나오는지 확인하세요.\n",
       "- 만약 한 쪽에서만 소리가 나면 이어버드 초기화 및 충전 케이스 재장착 후 다시 시도하세요.\n",
       "\n",
       "---\n",
       "\n",
       "## 추가 팁\n",
       "- 새 이어버드를 기존 이어버드와 정상적으로 연결하려면 두 이어버드가 같은 충전 케이스에 있어야 합니다.\n",
       "- 페어링 문제 발생 시 갤럭시 웨어러블 앱에서 ‘이어버드 초기화’ 기능을 활용하면 도움이 됩니다.\n",
       "- 이어버드별로 다소 차이가 있을 수 있으니, 제품 매뉴얼을 참고하는 것도 좋습니다.\n",
       "\n",
       "---\n",
       "\n",
       "필요한 경우, 사용 중인 갤럭시 버즈 모델명을 알려주시면 좀 더 구체적이고 맞춤형 가이드를 드릴 수 있습니다."
      ],
      "text/plain": [
       "<IPython.core.display.Markdown object>"
      ]
     },
     "metadata": {},
     "output_type": "display_data"
    },
    {
     "name": "stdout",
     "output_type": "stream",
     "text": [
      "User input: 삼성전자 S25 무게가 S24와 비교 했을때 얼마나 차이나\n"
     ]
    },
    {
     "data": {
      "text/markdown": [
       "삼성전자 모니터 S25 모델과 S24 모델의 무게를 비교해드리겠습니다.\n",
       "\n",
       "- **삼성전자 S25 모델 무게**: 약 3.5kg (스탠드 포함 기준)\n",
       "- **삼성전자 S24 모델 무게**: 약 3.1kg (스탠드 포함 기준)\n",
       "\n",
       "두 모델 간의 무게 차이는 약 **0.4kg** 정도입니다. S25 모델이 S24 모델보다 약간 더 무거운 편입니다.\n",
       "\n",
       "더 정확한 무게는 각각의 상세 제품 사양서에서 확인할 수 있으니, 필요 시 알려주세요!"
      ],
      "text/plain": [
       "<IPython.core.display.Markdown object>"
      ]
     },
     "metadata": {},
     "output_type": "display_data"
    }
   ],
   "source": [
    "QUERY_REWRITE_PROMPT = \"\"\"\n",
    "            <<지시문>>\n",
    "            너는 LLM 질의 최적화 전문가야. 사용자가 입력한 질문을 두 가지 목적에 맞게 재작성해.\n",
    "            \n",
    "            1. LLM Query용 Rewrite:\n",
    "            - 사용자의 질문을 LLM이 더 잘 이해하고 답변할 수 있도록, 맥락과 의도를 명확히 드러내는 자연스러운 문장으로 재작성해.\n",
    "            - 필요한 경우 추가 설명이나 세부 조건을 포함해서 질문의 목적이 분명히 드러나도록 만들어.\n",
    "            - LLM이 답변에 집중할 수 있도록 핵심 단어를 반복 사용해.\n",
    "\n",
    "            <<예시>>\n",
    "            * 질문: 삼성전자 제품 중 2구 말고 다른 인덕션 추천해줘            \n",
    "            * LLM 답변용 재작성: 삼성전자 인덕션 중 2구 모델이 아닌, 3구 이상 또는 다양한 화구 수를 가진 다른 인덕션 제품을 추천해 주세요. 각 모델의 주요 기능과 장점도 함께 알려주세요.\n",
    "\n",
    "            <<질문>>\n",
    "            {user_query}\n",
    "\n",
    "            <<출력포맷>>\n",
    "            반드시 아래와 같이 json 형식으로 출력해.\n",
    "            {\"llm_query\": \"LLM 답변용 재작성\"}\n",
    "        \"\"\"     \n",
    "  \n",
    "def rewrite_query_for_search_and_llm(query, client: AzureOpenAI):\n",
    "        response = client.chat.completions.create(\n",
    "            model=os.environ[\"AZURE_OPENAI_DEPLOYMENT_NAME\"],\n",
    "            messages=[\n",
    "                {\"role\": \"system\", \"content\": QUERY_REWRITE_PROMPT},\n",
    "                {\"role\": \"user\", \"content\": query}\n",
    "            ],\n",
    "            temperature=0.8,\n",
    "            max_tokens=300,\n",
    "            response_format= {\"type\": \"json_object\"},\n",
    "        )\n",
    "        \n",
    "        return json.loads(response.choices[0].message.content.strip())\n",
    "\n",
    "client = AzureOpenAI(\n",
    "  azure_endpoint = os.getenv(\"AZURE_OPENAI_ENDPOINT\"), \n",
    "  api_key=os.getenv(\"AZURE_OPENAI_KEY\"),  \n",
    "  api_version=\"2024-08-01-preview\"\n",
    ")\n",
    "\n",
    "inputs = [\n",
    "    \"삼성전자 제품 중 2구 말고 다른 인덕션 추천해줘\",\n",
    "    \"부모님에게 선물하고 싶은데 삼성전자 TV 추천해줘\",\n",
    "    \"삼성전자 25년 제품이 작년 대비 좋아진것은\",\n",
    "    \"삼성전자 JBL과 하만카돈 차이점이 뭐야\",\n",
    "    \"갤럭시 버즈 이어버드 한쪽을 새로 구매했는데 페어링 어떻게 하나요\",\n",
    "    \"삼성전자 S25 무게가 S24와 비교 했을때 얼마나 차이나\"\n",
    "]\n",
    "\n",
    "\n",
    "\n",
    "for input in inputs:\n",
    "    print(f\"User input: {input}\")\n",
    "    rewritten_query = rewrite_query_for_search_and_llm(input, client)\n",
    "    response_message = populate_answer_agent_with_bing_grounding_tool(rewritten_query['llm_query'], project_client, bing)\n",
    "    if response_message:\n",
    "        for text_message in response_message.text_messages:\n",
    "            display_markdown_content(text_message.text.value)\n",
    "        # for annotation in response_message.url_citation_annotations:\n",
    "        #     print(f\"URL Citation: [{annotation.url_citation.title}]({annotation.url_citation.url})\")\n"
   ]
  }
 ],
 "metadata": {
  "kernelspec": {
   "display_name": ".venv",
   "language": "python",
   "name": "python3"
  },
  "language_info": {
   "codemirror_mode": {
    "name": "ipython",
    "version": 3
   },
   "file_extension": ".py",
   "mimetype": "text/x-python",
   "name": "python",
   "nbconvert_exporter": "python",
   "pygments_lexer": "ipython3",
   "version": "3.12.10"
  }
 },
 "nbformat": 4,
 "nbformat_minor": 5
}
