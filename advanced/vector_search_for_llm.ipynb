{
 "cells": [
  {
   "attachments": {},
   "cell_type": "markdown",
   "metadata": {},
   "source": [
    "# Python에서 벡터 검색 (Azure AI Search)\n",
    "\n",
    "이 코드는 Azure AI Search의 push API를 사용하여 벡터를 검색 인덱스에 삽입하는 방법을 보여줍니다:\n",
    "\n",
    "+ 인덱스 스키마 생성\n",
    "+ 로컬 폴더에서 샘플 데이터 로드\n",
    "+ Azure OpenAI의 text-embedding-3-large 모델을 사용하여 문서 임베딩 생성\n",
    "+ 벡터 및 비벡터 필드를 Azure AI Search에 인덱싱\n",
    "+ 메타데이터 필터링 및 하이브리드(텍스트 + 벡터) 검색을 포함한 다양한 벡터 및 하이브리드 쿼리 실행\n",
    "\n",
    "코드는 Azure OpenAI를 사용하여 title과 content 필드의 임베딩을 생성합니다. 이 데모를 실행하려면 Azure OpenAI에 대한 액세스가 필요합니다.\n",
    "\n",
    "코드는 입력 데이터가 포함된 `text-sample.json` 파일을 읽어 임베딩을 생성합니다.\n",
    "\n",
    "출력은 사람이 읽을 수 있는 텍스트와 검색 인덱스에 삽입할 수 있는 임베딩의 조합입니다.\n",
    "\n",
    "## 사전 준비 사항\n",
    "\n",
    "+ [Azure OpenAI에 대한 액세스](https://aka.ms/oai/access)가 있는 Azure 구독. Azure OpenAI 서비스 이름과 API 키가 필요합니다.\n",
    "\n",
    "+ text-embedding-3-large 임베딩 모델의 배포.\n",
    "\n",
    "+ Azure AI Search(모든 티어 가능). 벡터 인덱스를 위해 충분한 용량이 있는 서비스를 선택하세요. 벡터 인덱스에는 Basic 이상을 권장합니다. 하이브리드 쿼리에서 시맨틱 랭킹을 사용하려면 [시맨틱 랭킹 활성화](https://learn.microsoft.com/azure/search/semantic-how-to-enable-disable)가 필요합니다.\n",
    "\n",
    "이 예제는 Python 3.11, [Python 확장 기능이 포함된 Visual Studio Code](https://code.visualstudio.com/docs/python/python-tutorial), 그리고 [Jupyter 확장 기능](https://marketplace.visualstudio.com/items?itemName=ms-toolsai.jupyter)에서 테스트되었습니다."
   ]
  },
  {
   "cell_type": "markdown",
   "metadata": {},
   "source": [
    "### Visual Studio Code에서 Python 가상 환경 설정\n",
    "\n",
    "1. 명령 팔레트(Ctrl+Shift+P)를 엽니다.\n",
    "1. **Python: Create Environment**를 검색합니다.\n",
    "1. **Venv**를 선택합니다.\n",
    "1. Python 인터프리터를 선택합니다. 3.10 이상을 선택하세요.\n",
    "\n",
    "설정에는 약간의 시간이 걸릴 수 있습니다. 문제가 발생하면 [VS Code의 Python 환경](https://code.visualstudio.com/docs/python/environments) 문서를 참고하세요."
   ]
  },
  {
   "attachments": {},
   "cell_type": "markdown",
   "metadata": {},
   "source": [
    "## 필수 라이브러리 및 환경 변수 불러오기"
   ]
  },
  {
   "cell_type": "code",
   "execution_count": 5,
   "metadata": {},
   "outputs": [],
   "source": [
    "from dotenv import load_dotenv\n",
    "from azure.identity import DefaultAzureCredential\n",
    "from azure.core.credentials import AzureKeyCredential\n",
    "import os\n",
    "\n",
    "load_dotenv(override=True, dotenv_path=\"../.env\") \n",
    "\n",
    "\n",
    "endpoint = os.environ[\"AZURE_SEARCH_SERVICE_ENDPOINT\"]\n",
    "credential = AzureKeyCredential(os.getenv(\"AZURE_SEARCH_ADMIN_KEY\", \"\")) if len(os.getenv(\"AZURE_SEARCH_ADMIN_KEY\", \"\")) > 0 else DefaultAzureCredential()\n",
    "index_name = os.getenv(\"AZURE_SEARCH_INDEX\", \"vectest\")\n",
    "azure_openai_endpoint = os.environ[\"AZURE_OPENAI_ENDPOINT\"]\n",
    "azure_openai_key = os.getenv(\"AZURE_OPENAI_KEY\", \"\") if len(os.getenv(\"AZURE_OPENAI_KEY\", \"\")) > 0 else None\n",
    "azure_openai_embedding_deployment = os.getenv(\"EMBEDDING_MODEL_NAME\", \"text-embedding-3-large\")\n",
    "azure_openai_embedding_dimensions = int(os.getenv(\"AZURE_OPENAI_EMBEDDING_DIMENSIONS\", 1536))\n",
    "embedding_model_name = os.getenv(\"EMBEDDING_MODEL_NAME\", \"text-embedding-3-large\")\n",
    "azure_openai_api_version = os.getenv(\"AZURE_OPENAI_API_VERSION\", \"2024-10-21\")"
   ]
  },
  {
   "attachments": {},
   "cell_type": "markdown",
   "metadata": {},
   "source": [
    "## 임베딩 생성\n",
    "데이터를 읽고, OpenAI 임베딩을 생성하여 Azure AI Search 인덱스에 삽입할 수 있는 형식으로 내보냅니다:"
   ]
  },
  {
   "cell_type": "code",
   "execution_count": 2,
   "metadata": {},
   "outputs": [],
   "source": [
    "from openai import AzureOpenAI\n",
    "from azure.identity import DefaultAzureCredential, get_bearer_token_provider\n",
    "import json\n",
    "\n",
    "openai_credential = DefaultAzureCredential()\n",
    "token_provider = get_bearer_token_provider(openai_credential, \"https://cognitiveservices.azure.com/.default\")\n",
    "\n",
    "client = AzureOpenAI(\n",
    "    azure_deployment=azure_openai_embedding_deployment,\n",
    "    api_version=azure_openai_api_version,\n",
    "    azure_endpoint=azure_openai_endpoint,\n",
    "    api_key=azure_openai_key,\n",
    "    azure_ad_token_provider=token_provider if not azure_openai_key else None\n",
    ")\n",
    "\n",
    "# Generate Document Embeddings using OpenAI 3 large\n",
    "# Read the text-sample.json\n",
    "path = os.path.join('..', 'data', 'text-sample.json')\n",
    "with open(path, 'r', encoding='utf-8') as file:\n",
    "    input_data = json.load(file)\n",
    "\n",
    "titles = [item['title'] for item in input_data]\n",
    "content = [item['content'] for item in input_data]\n",
    "title_response = client.embeddings.create(input=titles, model=embedding_model_name)\n",
    "title_embeddings = [item.embedding for item in title_response.data]\n",
    "content_response = client.embeddings.create(input=content, model=embedding_model_name)\n",
    "content_embeddings = [item.embedding for item in content_response.data]\n",
    "\n",
    "# Generate embeddings for title and content fields\n",
    "for i, item in enumerate(input_data):\n",
    "    title = item['title']\n",
    "    content = item['content']\n",
    "    item['titleVector'] = title_embeddings[i]\n",
    "    item['contentVector'] = content_embeddings[i]\n",
    "\n",
    "# Output embeddings to docVectors.json file\n",
    "output_path = os.path.join('output', 'docVectors.json')\n",
    "output_directory = os.path.dirname(output_path)\n",
    "if not os.path.exists(output_directory):\n",
    "    os.makedirs(output_directory)\n",
    "with open(output_path, \"w\") as f:\n",
    "    json.dump(input_data, f)"
   ]
  },
  {
   "attachments": {},
   "cell_type": "markdown",
   "metadata": {},
   "source": [
    "## 검색 인덱스 생성\n",
    "\n",
    "검색 인덱스 스키마와 벡터 검색 구성을 만듭니다. 오류가 발생하면 검색 서비스의 사용 가능한 할당량을 확인하고 .env 파일에서 고유한 인덱스 이름을 사용하고 있는지 확인하세요."
   ]
  },
  {
   "cell_type": "code",
   "execution_count": 7,
   "metadata": {},
   "outputs": [
    {
     "name": "stdout",
     "output_type": "stream",
     "text": [
      "vectest created\n"
     ]
    }
   ],
   "source": [
    "from azure.search.documents.indexes import SearchIndexClient\n",
    "from azure.search.documents.indexes.models import (\n",
    "    SimpleField,\n",
    "    SearchFieldDataType,\n",
    "    SearchableField,\n",
    "    SearchField,\n",
    "    VectorSearch,\n",
    "    HnswAlgorithmConfiguration,\n",
    "    VectorSearchProfile,\n",
    "    SemanticConfiguration,\n",
    "    SemanticPrioritizedFields,\n",
    "    SemanticField,\n",
    "    SemanticSearch,\n",
    "    SearchIndex,\n",
    "    AzureOpenAIVectorizer,\n",
    "    AzureOpenAIVectorizerParameters\n",
    ")\n",
    "\n",
    "\n",
    "# Create a search index\n",
    "index_client = SearchIndexClient(\n",
    "    endpoint=endpoint, credential=credential)\n",
    "fields = [\n",
    "    SimpleField(name=\"id\", type=SearchFieldDataType.String, key=True, sortable=True, filterable=True, facetable=True),\n",
    "    SearchableField(name=\"title\", type=SearchFieldDataType.String),\n",
    "    SearchableField(name=\"content\", type=SearchFieldDataType.String),\n",
    "    SearchableField(name=\"category\", type=SearchFieldDataType.String,\n",
    "                    filterable=True),\n",
    "    SearchField(name=\"titleVector\", type=SearchFieldDataType.Collection(SearchFieldDataType.Single),\n",
    "                searchable=True, vector_search_dimensions=azure_openai_embedding_dimensions, vector_search_profile_name=\"myHnswProfile\"),\n",
    "    SearchField(name=\"contentVector\", type=SearchFieldDataType.Collection(SearchFieldDataType.Single),\n",
    "                searchable=True, vector_search_dimensions=azure_openai_embedding_dimensions, vector_search_profile_name=\"myHnswProfile\"),\n",
    "]\n",
    "\n",
    "# Configure the vector search configuration  \n",
    "vector_search = VectorSearch(\n",
    "    algorithms=[\n",
    "        HnswAlgorithmConfiguration(\n",
    "            name=\"myHnsw\"\n",
    "        )\n",
    "    ],\n",
    "    profiles=[\n",
    "        VectorSearchProfile(\n",
    "            name=\"myHnswProfile\",\n",
    "            algorithm_configuration_name=\"myHnsw\",\n",
    "            vectorizer_name=\"myVectorizer\"\n",
    "        )\n",
    "    ],\n",
    "    vectorizers=[\n",
    "        AzureOpenAIVectorizer(\n",
    "            vectorizer_name=\"myVectorizer\",\n",
    "            parameters=AzureOpenAIVectorizerParameters(\n",
    "                resource_url=azure_openai_endpoint,\n",
    "                deployment_name=azure_openai_embedding_deployment,\n",
    "                model_name=embedding_model_name,\n",
    "                api_key=azure_openai_key\n",
    "            )\n",
    "        )\n",
    "    ]\n",
    ")\n",
    "\n",
    "\n",
    "\n",
    "semantic_config = SemanticConfiguration(\n",
    "    name=\"my-semantic-config\",\n",
    "    prioritized_fields=SemanticPrioritizedFields(\n",
    "        title_field=SemanticField(field_name=\"title\"),\n",
    "        keywords_fields=[SemanticField(field_name=\"category\")],\n",
    "        content_fields=[SemanticField(field_name=\"content\")]\n",
    "    )\n",
    ")\n",
    "\n",
    "# Create the semantic settings with the configuration\n",
    "semantic_search = SemanticSearch(configurations=[semantic_config])\n",
    "\n",
    "# Create the search index with the semantic settings\n",
    "index = SearchIndex(name=index_name, fields=fields,\n",
    "                    vector_search=vector_search, semantic_search=semantic_search)\n",
    "result = index_client.create_or_update_index(index)\n",
    "print(f'{result.name} created')\n"
   ]
  },
  {
   "attachments": {},
   "cell_type": "markdown",
   "metadata": {},
   "source": [
    "## 텍스트와 임베딩을 벡터 스토어에 삽입\n",
    "JSON 데이터의 텍스트와 메타데이터를 벡터 스토어에 추가합니다:"
   ]
  },
  {
   "cell_type": "code",
   "execution_count": 8,
   "metadata": {},
   "outputs": [
    {
     "name": "stdout",
     "output_type": "stream",
     "text": [
      "Uploaded 108 documents\n"
     ]
    }
   ],
   "source": [
    "from azure.search.documents import SearchClient\n",
    "import json\n",
    "\n",
    "# Upload some documents to the index\n",
    "output_path = os.path.join('output', 'docVectors.json')\n",
    "output_directory = os.path.dirname(output_path)\n",
    "if not os.path.exists(output_directory):\n",
    "    os.makedirs(output_directory)\n",
    "with open(output_path, 'r') as file:  \n",
    "    documents = json.load(file)  \n",
    "search_client = SearchClient(endpoint=endpoint, index_name=index_name, credential=credential)\n",
    "result = search_client.upload_documents(documents)\n",
    "print(f\"Uploaded {len(documents)} documents\") "
   ]
  },
  {
   "cell_type": "markdown",
   "metadata": {},
   "source": [
    "대량의 문서를 인덱싱하는 경우, `SearchIndexingBufferedSender`를 사용하면 자동으로 배치 처리를 하여 최적화된 방식으로 문서를 인덱싱할 수 있습니다:"
   ]
  },
  {
   "cell_type": "code",
   "execution_count": null,
   "metadata": {},
   "outputs": [
    {
     "name": "stdout",
     "output_type": "stream",
     "text": [
      "Uploaded 108 documents in total\n"
     ]
    }
   ],
   "source": [
    "from azure.search.documents import SearchIndexingBufferedSender\n",
    "\n",
    "# Upload some documents to the index  \n",
    "with open(output_path, 'r') as file:  \n",
    "    documents = json.load(file)  \n",
    "  \n",
    "# Use SearchIndexingBufferedSender to upload the documents in batches optimized for indexing  \n",
    "with SearchIndexingBufferedSender(  \n",
    "    endpoint=endpoint,  \n",
    "    index_name=index_name,  \n",
    "    credential=credential,  \n",
    ") as batch_client:  \n",
    "    # Add upload actions for all documents  \n",
    "    batch_client.upload_documents(documents=documents)  \n",
    "print(f\"Uploaded {len(documents)} documents in total\")  \n"
   ]
  },
  {
   "cell_type": "code",
   "execution_count": 9,
   "metadata": {},
   "outputs": [],
   "source": [
    "# Helper code to print results\n",
    "\n",
    "from azure.search.documents import SearchItemPaged\n",
    "\n",
    "def print_results(results: SearchItemPaged[dict]):\n",
    "    semantic_answers = results.get_answers()\n",
    "    if semantic_answers:\n",
    "        for answer in semantic_answers:\n",
    "            if answer.highlights:\n",
    "                print(f\"Semantic Answer: {answer.highlights}\")\n",
    "            else:\n",
    "                print(f\"Semantic Answer: {answer.text}\")\n",
    "            print(f\"Semantic Answer Score: {answer.score}\\n\")\n",
    "\n",
    "    for result in results:\n",
    "        print(f\"Title: {result['title']}\")  \n",
    "        print(f\"Score: {result['@search.score']}\")\n",
    "        if result.get('@search.reranker_score'):\n",
    "            print(f\"Reranker Score: {result['@search.reranker_score']}\")\n",
    "        print(f\"Content: {result['content']}\")  \n",
    "        print(f\"Category: {result['category']}\\n\")\n",
    "\n",
    "        captions = result[\"@search.captions\"]\n",
    "        if captions:\n",
    "            caption = captions[0]\n",
    "            if caption.highlights:\n",
    "                print(f\"Caption: {caption.highlights}\\n\")\n",
    "            else:\n",
    "                print(f\"Caption: {caption.text}\\n\")"
   ]
  },
  {
   "cell_type": "markdown",
   "metadata": {},
   "source": [
    "## 벡터 유사도 검색 수행\n",
    "\n",
    "이 예제는 미리 계산된 임베딩을 사용한 순수 벡터 검색을 보여줍니다."
   ]
  },
  {
   "cell_type": "code",
   "execution_count": 10,
   "metadata": {},
   "outputs": [
    {
     "name": "stdout",
     "output_type": "stream",
     "text": [
      "Title: Azure 데브옵스\n",
      "Score: 0.6362665\n",
      "Content: Azure 데브옵스는 애플리케이션 계획, 빌드, 배포를 지원하는 서비스 모음입니다. Azure Boards(작업 추적), Azure Repos(소스 코드 관리), Azure Pipelines(CI/CD), Azure Test Plans(테스트), Azure Artifacts(패키지 관리) 등을 포함합니다. 다양한 언어, 프레임워크, 플랫폼을 지원하며, 기존 개발 도구 및 프로세스와 쉽게 통합할 수 있습니다. Azure App Service, Azure Functions 등 다른 Azure 서비스와도 연동됩니다.\n",
      "Category: 개발자 도구\n",
      "\n",
      "Title: Azure 데브테스트 랩\n",
      "Score: 0.6100094\n",
      "Content: Azure 데브테스트 랩은 Azure에서 개발 및 테스트 환경을 생성, 관리 및 공유할 수 있는 완전 관리형 서비스입니다. 사용자 지정 템플릿, 비용 관리, Azure DevOps와의 통합 등의 기능을 제공합니다. Windows, Linux, Kubernetes 등 다양한 플랫폼을 지원합니다. Azure 데브테스트 랩을 사용하여 애플리케이션 개발 수명 주기를 개선하고, 비용을 절감하며, 환경의 일관성을 보장할 수 있습니다. Azure Virtual Machines, Azure App Service 등 다른 Azure 서비스와 통합됩니다.\n",
      "Category: 개발자 도구\n",
      "\n",
      "Title: Azure 앱 서비스\n",
      "Score: 0.6005465\n",
      "Content: Azure 앱 서비스는 웹 앱을 구축, 배포 및 확장할 수 있는 완전 관리형 플랫폼입니다. 웹 앱, 모바일 앱 백엔드, RESTful API를 호스팅할 수 있습니다. .NET, Java, Node.js, Python, PHP 등 다양한 언어와 프레임워크를 지원합니다. 자동 확장 및 부하 분산 기능이 내장되어 있으며, Azure DevOps, GitHub, Bitbucket 등 다른 Azure 서비스와의 통합도 제공합니다.\n",
      "Category: 웹\n",
      "\n"
     ]
    }
   ],
   "source": [
    "from azure.search.documents.models import VectorizedQuery\n",
    "\n",
    "# Pure Vector Search\n",
    "query = \"소프트웨어 개발도구들\"  \n",
    "embedding = client.embeddings.create(input=query, model=embedding_model_name).data[0].embedding\n",
    "\n",
    "# 50 is an optimal value for k_nearest_neighbors when performing vector search\n",
    "# To learn more about how vector ranking works, please visit https://learn.microsoft.com/azure/search/vector-search-ranking\n",
    "vector_query = VectorizedQuery(vector=embedding, k_nearest_neighbors=50, fields=\"contentVector\")\n",
    "  \n",
    "results = search_client.search(  \n",
    "    search_text=None,  \n",
    "    vector_queries= [vector_query],\n",
    "    select=[\"title\", \"content\", \"category\"],\n",
    "    top=3\n",
    ")  \n",
    "  \n",
    "print_results(results)"
   ]
  },
  {
   "attachments": {},
   "cell_type": "markdown",
   "metadata": {},
   "source": [
    "## 벡터화 가능한 텍스트 쿼리를 사용한 벡터 유사도 검색 수행"
   ]
  },
  {
   "cell_type": "markdown",
   "metadata": {},
   "source": [
    "이 예제는 벡터화 가능한 텍스트 쿼리를 사용한 순수 벡터 검색을 보여줍니다. 텍스트만 전달하면 벡터라이저가 쿼리 벡터화를 처리합니다."
   ]
  },
  {
   "cell_type": "code",
   "execution_count": 11,
   "metadata": {},
   "outputs": [
    {
     "name": "stdout",
     "output_type": "stream",
     "text": [
      "Title: Azure 데브옵스\n",
      "Score: 0.6362665\n",
      "Content: Azure 데브옵스는 애플리케이션 계획, 빌드, 배포를 지원하는 서비스 모음입니다. Azure Boards(작업 추적), Azure Repos(소스 코드 관리), Azure Pipelines(CI/CD), Azure Test Plans(테스트), Azure Artifacts(패키지 관리) 등을 포함합니다. 다양한 언어, 프레임워크, 플랫폼을 지원하며, 기존 개발 도구 및 프로세스와 쉽게 통합할 수 있습니다. Azure App Service, Azure Functions 등 다른 Azure 서비스와도 연동됩니다.\n",
      "Category: 개발자 도구\n",
      "\n",
      "Title: Azure 데브테스트 랩\n",
      "Score: 0.6100094\n",
      "Content: Azure 데브테스트 랩은 Azure에서 개발 및 테스트 환경을 생성, 관리 및 공유할 수 있는 완전 관리형 서비스입니다. 사용자 지정 템플릿, 비용 관리, Azure DevOps와의 통합 등의 기능을 제공합니다. Windows, Linux, Kubernetes 등 다양한 플랫폼을 지원합니다. Azure 데브테스트 랩을 사용하여 애플리케이션 개발 수명 주기를 개선하고, 비용을 절감하며, 환경의 일관성을 보장할 수 있습니다. Azure Virtual Machines, Azure App Service 등 다른 Azure 서비스와 통합됩니다.\n",
      "Category: 개발자 도구\n",
      "\n",
      "Title: Azure 앱 서비스\n",
      "Score: 0.6005465\n",
      "Content: Azure 앱 서비스는 웹 앱을 구축, 배포 및 확장할 수 있는 완전 관리형 플랫폼입니다. 웹 앱, 모바일 앱 백엔드, RESTful API를 호스팅할 수 있습니다. .NET, Java, Node.js, Python, PHP 등 다양한 언어와 프레임워크를 지원합니다. 자동 확장 및 부하 분산 기능이 내장되어 있으며, Azure DevOps, GitHub, Bitbucket 등 다른 Azure 서비스와의 통합도 제공합니다.\n",
      "Category: 웹\n",
      "\n"
     ]
    }
   ],
   "source": [
    "from azure.search.documents.models import VectorizableTextQuery\n",
    "\n",
    "# Pure Vector Search\n",
    "query = \"소프트웨어 개발도구들\"  \n",
    "  \n",
    "vector_query = VectorizableTextQuery(text=query, k_nearest_neighbors=50, fields=\"contentVector\")\n",
    "  \n",
    "results = search_client.search(  \n",
    "    search_text=None,  \n",
    "    vector_queries= [vector_query],\n",
    "    select=[\"title\", \"content\", \"category\"],\n",
    "    top=3\n",
    ")  \n",
    "  \n",
    "print_results(results)"
   ]
  },
  {
   "cell_type": "markdown",
   "metadata": {},
   "source": [
    "이 예제는 Azure OpenAI의 text-embedding-3-large 다국어 기능을 보여주는 순수 벡터 검색 예시입니다."
   ]
  },
  {
   "cell_type": "code",
   "execution_count": 22,
   "metadata": {},
   "outputs": [
    {
     "name": "stdout",
     "output_type": "stream",
     "text": [
      "Title: Azure 데브옵스\n",
      "Score: 0.5774976\n",
      "Content: Azure 데브옵스는 애플리케이션 계획, 빌드, 배포를 지원하는 서비스 모음입니다. Azure Boards(작업 추적), Azure Repos(소스 코드 관리), Azure Pipelines(CI/CD), Azure Test Plans(테스트), Azure Artifacts(패키지 관리) 등을 포함합니다. 다양한 언어, 프레임워크, 플랫폼을 지원하며, 기존 개발 도구 및 프로세스와 쉽게 통합할 수 있습니다. Azure App Service, Azure Functions 등 다른 Azure 서비스와도 연동됩니다.\n",
      "Category: 개발자 도구\n",
      "\n",
      "Title: Azure 데브테스트 랩\n",
      "Score: 0.5612859\n",
      "Content: Azure 데브테스트 랩은 Azure에서 개발 및 테스트 환경을 생성, 관리 및 공유할 수 있는 완전 관리형 서비스입니다. 사용자 지정 템플릿, 비용 관리, Azure DevOps와의 통합 등의 기능을 제공합니다. Windows, Linux, Kubernetes 등 다양한 플랫폼을 지원합니다. Azure 데브테스트 랩을 사용하여 애플리케이션 개발 수명 주기를 개선하고, 비용을 절감하며, 환경의 일관성을 보장할 수 있습니다. Azure Virtual Machines, Azure App Service 등 다른 Azure 서비스와 통합됩니다.\n",
      "Category: 개발자 도구\n",
      "\n",
      "Title: Azure 마이그레이트\n",
      "Score: 0.54510754\n",
      "Content: Azure 마이그레이트는 온프레미스 워크로드를 Azure로 마이그레이션할 수 있는 클라우드 마이그레이션 서비스입니다. VM 호환성 평가, 성능 기반 크기 조정, 비용 추정 등의 기능을 제공합니다. Windows, Linux, VMware 등 다양한 플랫폼을 지원합니다. Azure 마이그레이트를 사용하여 마이그레이션을 계획하고, 워크로드의 호환성을 보장하며, 비용을 최적화할 수 있습니다. Azure Site Recovery, Azure Database Migration Service 등 다른 Azure 서비스와 통합됩니다.\n",
      "Category: 관리 + 거버넌스\n",
      "\n"
     ]
    }
   ],
   "source": [
    "# Pure Vector Search multi-lingual (e.g 'tools for software development' in Dutch)  \n",
    "query = \"tools voor softwareontwikkeling\"  \n",
    "  \n",
    "vector_query = VectorizableTextQuery(text=query, k_nearest_neighbors=50, fields=\"contentVector\")\n",
    "\n",
    "results = search_client.search(  \n",
    "    search_text=None,  \n",
    "    vector_queries= [vector_query],\n",
    "    select=[\"title\", \"content\", \"category\"],\n",
    "    top=3\n",
    ")  \n",
    "  \n",
    "print_results(results)\n",
    "\n"
   ]
  },
  {
   "cell_type": "markdown",
   "metadata": {},
   "source": [
    "## Exhaustive KNN(정확한 최근접 이웃) 검색 수행"
   ]
  },
  {
   "cell_type": "markdown",
   "metadata": {},
   "source": [
    "이 예제는 인덱스 종류(HNSW 또는 ExhaustiveKNN)에 상관없이 벡터 인덱스를 전체 탐색하는 방법을 보여줍니다. 이를 통해 ground-truth 값을 계산할 수 있습니다."
   ]
  },
  {
   "cell_type": "code",
   "execution_count": 13,
   "metadata": {},
   "outputs": [
    {
     "name": "stdout",
     "output_type": "stream",
     "text": [
      "Title: Azure 데브옵스\n",
      "Score: 0.6362665\n",
      "Content: Azure 데브옵스는 애플리케이션 계획, 빌드, 배포를 지원하는 서비스 모음입니다. Azure Boards(작업 추적), Azure Repos(소스 코드 관리), Azure Pipelines(CI/CD), Azure Test Plans(테스트), Azure Artifacts(패키지 관리) 등을 포함합니다. 다양한 언어, 프레임워크, 플랫폼을 지원하며, 기존 개발 도구 및 프로세스와 쉽게 통합할 수 있습니다. Azure App Service, Azure Functions 등 다른 Azure 서비스와도 연동됩니다.\n",
      "Category: 개발자 도구\n",
      "\n",
      "Title: Azure 데브테스트 랩\n",
      "Score: 0.6100094\n",
      "Content: Azure 데브테스트 랩은 Azure에서 개발 및 테스트 환경을 생성, 관리 및 공유할 수 있는 완전 관리형 서비스입니다. 사용자 지정 템플릿, 비용 관리, Azure DevOps와의 통합 등의 기능을 제공합니다. Windows, Linux, Kubernetes 등 다양한 플랫폼을 지원합니다. Azure 데브테스트 랩을 사용하여 애플리케이션 개발 수명 주기를 개선하고, 비용을 절감하며, 환경의 일관성을 보장할 수 있습니다. Azure Virtual Machines, Azure App Service 등 다른 Azure 서비스와 통합됩니다.\n",
      "Category: 개발자 도구\n",
      "\n",
      "Title: Azure 앱 서비스\n",
      "Score: 0.6005465\n",
      "Content: Azure 앱 서비스는 웹 앱을 구축, 배포 및 확장할 수 있는 완전 관리형 플랫폼입니다. 웹 앱, 모바일 앱 백엔드, RESTful API를 호스팅할 수 있습니다. .NET, Java, Node.js, Python, PHP 등 다양한 언어와 프레임워크를 지원합니다. 자동 확장 및 부하 분산 기능이 내장되어 있으며, Azure DevOps, GitHub, Bitbucket 등 다른 Azure 서비스와의 통합도 제공합니다.\n",
      "Category: 웹\n",
      "\n"
     ]
    }
   ],
   "source": [
    "# Pure Vector Search\n",
    "query = \"소프트웨어 개발도구들\"  \n",
    "  \n",
    "vector_query = VectorizableTextQuery(text=query, k_nearest_neighbors=50, fields=\"contentVector\", exhaustive=True)\n",
    "  \n",
    "results = search_client.search(  \n",
    "    search_text=None,  \n",
    "    vector_queries= [vector_query],\n",
    "    select=[\"title\", \"content\", \"category\"],\n",
    "    top=3\n",
    ")  \n",
    "  \n",
    "print_results(results)"
   ]
  },
  {
   "cell_type": "markdown",
   "metadata": {},
   "source": [
    "## 교차 필드 벡터 검색 수행\n",
    "\n",
    "이 예제는 여러 벡터 필드를 동시에 쿼리할 수 있는 교차 필드 벡터 검색을 보여줍니다. 쿼리할 벡터 필드에 동일한 임베딩 모델을 사용했는지 확인하세요."
   ]
  },
  {
   "cell_type": "code",
   "execution_count": 14,
   "metadata": {},
   "outputs": [
    {
     "name": "stdout",
     "output_type": "stream",
     "text": [
      "Title: Azure 데브옵스\n",
      "Score: 0.03253968432545662\n",
      "Content: Azure 데브옵스는 애플리케이션 계획, 빌드, 배포를 지원하는 서비스 모음입니다. Azure Boards(작업 추적), Azure Repos(소스 코드 관리), Azure Pipelines(CI/CD), Azure Test Plans(테스트), Azure Artifacts(패키지 관리) 등을 포함합니다. 다양한 언어, 프레임워크, 플랫폼을 지원하며, 기존 개발 도구 및 프로세스와 쉽게 통합할 수 있습니다. Azure App Service, Azure Functions 등 다른 Azure 서비스와도 연동됩니다.\n",
      "Category: 개발자 도구\n",
      "\n",
      "Title: Azure 앱 서비스\n",
      "Score: 0.0317540317773819\n",
      "Content: Azure 앱 서비스는 웹 앱을 구축, 배포 및 확장할 수 있는 완전 관리형 플랫폼입니다. 웹 앱, 모바일 앱 백엔드, RESTful API를 호스팅할 수 있습니다. .NET, Java, Node.js, Python, PHP 등 다양한 언어와 프레임워크를 지원합니다. 자동 확장 및 부하 분산 기능이 내장되어 있으며, Azure DevOps, GitHub, Bitbucket 등 다른 Azure 서비스와의 통합도 제공합니다.\n",
      "Category: 웹\n",
      "\n",
      "Title: Azure 애플리케이션 인사이트\n",
      "Score: 0.03125763311982155\n",
      "Content: Azure 애플리케이션 인사이트는 애플리케이션 및 인프라를 모니터링, 진단 및 문제 해결할 수 있는 애플리케이션 성능 관리 서비스입니다. 실시간 원격 분석, 종속성 매핑, 실시간 메트릭 등의 기능을 제공합니다. .NET, Java, Node.js, Python 등 다양한 플랫폼을 지원합니다. Azure 애플리케이션 인사이트를 사용하여 문제를 감지하고 진단하며, 성능을 최적화하고, 애플리케이션의 가용성을 보장할 수 있습니다. Azure Monitor, Azure Log Analytics 등 다른 Azure 서비스와 통합됩니다.\n",
      "Category: 관리 + 거버넌스\n",
      "\n"
     ]
    }
   ],
   "source": [
    "# Pure Vector Search\n",
    "query = \"소프트웨어 개발도구들\"  \n",
    "  \n",
    "vector_query = VectorizableTextQuery(text=query, k_nearest_neighbors=50, fields=\"contentVector, titleVector\")\n",
    "\n",
    "results = search_client.search(  \n",
    "    search_text=None,  \n",
    "    vector_queries= [vector_query],\n",
    "    select=[\"title\", \"content\", \"category\"],\n",
    "    top=3\n",
    ")  \n",
    "  \n",
    "print_results(results)\n"
   ]
  },
  {
   "cell_type": "markdown",
   "metadata": {},
   "source": [
    "## 다중 벡터 검색 수행\n",
    "\n",
    "이 예제는 여러 쿼리 벡터를 전달하여 여러 벡터 필드를 동시에 쿼리할 수 있는 교차 필드 벡터 검색을 보여줍니다. 이 경우, 서로 다른 임베딩 모델의 쿼리 벡터를 인덱스의 해당 벡터 필드에 전달할 수 있습니다."
   ]
  },
  {
   "cell_type": "code",
   "execution_count": 15,
   "metadata": {},
   "outputs": [
    {
     "name": "stdout",
     "output_type": "stream",
     "text": [
      "Title: Azure 데브옵스\n",
      "Score: 0.03253968432545662\n",
      "Content: Azure 데브옵스는 애플리케이션 계획, 빌드, 배포를 지원하는 서비스 모음입니다. Azure Boards(작업 추적), Azure Repos(소스 코드 관리), Azure Pipelines(CI/CD), Azure Test Plans(테스트), Azure Artifacts(패키지 관리) 등을 포함합니다. 다양한 언어, 프레임워크, 플랫폼을 지원하며, 기존 개발 도구 및 프로세스와 쉽게 통합할 수 있습니다. Azure App Service, Azure Functions 등 다른 Azure 서비스와도 연동됩니다.\n",
      "Category: 개발자 도구\n",
      "\n",
      "Title: Azure 앱 서비스\n",
      "Score: 0.0317540317773819\n",
      "Content: Azure 앱 서비스는 웹 앱을 구축, 배포 및 확장할 수 있는 완전 관리형 플랫폼입니다. 웹 앱, 모바일 앱 백엔드, RESTful API를 호스팅할 수 있습니다. .NET, Java, Node.js, Python, PHP 등 다양한 언어와 프레임워크를 지원합니다. 자동 확장 및 부하 분산 기능이 내장되어 있으며, Azure DevOps, GitHub, Bitbucket 등 다른 Azure 서비스와의 통합도 제공합니다.\n",
      "Category: 웹\n",
      "\n",
      "Title: Azure 애플리케이션 인사이트\n",
      "Score: 0.03125763311982155\n",
      "Content: Azure 애플리케이션 인사이트는 애플리케이션 및 인프라를 모니터링, 진단 및 문제 해결할 수 있는 애플리케이션 성능 관리 서비스입니다. 실시간 원격 분석, 종속성 매핑, 실시간 메트릭 등의 기능을 제공합니다. .NET, Java, Node.js, Python 등 다양한 플랫폼을 지원합니다. Azure 애플리케이션 인사이트를 사용하여 문제를 감지하고 진단하며, 성능을 최적화하고, 애플리케이션의 가용성을 보장할 수 있습니다. Azure Monitor, Azure Log Analytics 등 다른 Azure 서비스와 통합됩니다.\n",
      "Category: 관리 + 거버넌스\n",
      "\n"
     ]
    }
   ],
   "source": [
    "# Multi-Vector Search\n",
    "query = \"소프트웨어 개발도구들\"  \n",
    "  \n",
    "\n",
    "vector_query_1 = VectorizableTextQuery(text=query, k_nearest_neighbors=50, fields=\"titleVector\")\n",
    "vector_query_2 = VectorizableTextQuery(text=query, k_nearest_neighbors=50, fields=\"contentVector\")\n",
    "\n",
    "results = search_client.search(  \n",
    "    search_text=None,  \n",
    "    vector_queries=[vector_query_1, vector_query_2],\n",
    "    select=[\"title\", \"content\", \"category\"],\n",
    "    top=3\n",
    ")  \n",
    "  \n",
    "print_results(results)\n"
   ]
  },
  {
   "cell_type": "markdown",
   "metadata": {},
   "source": [
    "## 가중치가 적용된 다중 벡터 검색 수행\n",
    "\n",
    "이 예제는 여러 쿼리 벡터에 서로 다른 가중치를 적용하여 여러 벡터 필드를 동시에 쿼리할 수 있는 교차 필드 벡터 검색을 보여줍니다."
   ]
  },
  {
   "cell_type": "code",
   "execution_count": 16,
   "metadata": {},
   "outputs": [
    {
     "name": "stdout",
     "output_type": "stream",
     "text": [
      "Title: Azure 데이터 익스플로러\n",
      "Score: 0.04047619178891182\n",
      "Content: Azure 데이터 익스플로러는 대량의 데이터를 실시간으로 분석할 수 있는 빠르고 완전 관리형 데이터 분석 서비스입니다. 데이터 수집, 쿼리, 시각화 등의 기능을 제공합니다. Azure Event Hubs, Azure IoT Hub, Azure Blob Storage 등 다양한 데이터 소스를 지원합니다. 데이터 익스플로러를 사용하여 로그를 분석하고, 애플리케이션을 모니터링하며, 데이터에 대한 인사이트를 얻을 수 있습니다. Azure Synapse Analytics, Azure Machine Learning 등 다른 Azure 서비스와 통합됩니다.\n",
      "Category: 분석\n",
      "\n",
      "Title: Azure 데브옵스\n",
      "Score: 0.04007936641573906\n",
      "Content: Azure 데브옵스는 애플리케이션 계획, 빌드, 배포를 지원하는 서비스 모음입니다. Azure Boards(작업 추적), Azure Repos(소스 코드 관리), Azure Pipelines(CI/CD), Azure Test Plans(테스트), Azure Artifacts(패키지 관리) 등을 포함합니다. 다양한 언어, 프레임워크, 플랫폼을 지원하며, 기존 개발 도구 및 프로세스와 쉽게 통합할 수 있습니다. Azure App Service, Azure Functions 등 다른 Azure 서비스와도 연동됩니다.\n",
      "Category: 개발자 도구\n",
      "\n",
      "Title: Azure 앱 서비스\n",
      "Score: 0.03931451588869095\n",
      "Content: Azure 앱 서비스는 웹 앱을 구축, 배포 및 확장할 수 있는 완전 관리형 플랫폼입니다. 웹 앱, 모바일 앱 백엔드, RESTful API를 호스팅할 수 있습니다. .NET, Java, Node.js, Python, PHP 등 다양한 언어와 프레임워크를 지원합니다. 자동 확장 및 부하 분산 기능이 내장되어 있으며, Azure DevOps, GitHub, Bitbucket 등 다른 Azure 서비스와의 통합도 제공합니다.\n",
      "Category: 웹\n",
      "\n"
     ]
    }
   ],
   "source": [
    "# Multi-Vector Search\n",
    "query = \"소프트웨어 개발도구들\"  \n",
    "  \n",
    "\n",
    "vector_query_1 = VectorizableTextQuery(text=query, k_nearest_neighbors=50, fields=\"titleVector\", weight=2)\n",
    "vector_query_2 = VectorizableTextQuery(text=query, k_nearest_neighbors=50, fields=\"contentVector\", weight=0.5)\n",
    "\n",
    "results = search_client.search(  \n",
    "    search_text=None,  \n",
    "    vector_queries=[vector_query_1, vector_query_2],\n",
    "    select=[\"title\", \"content\", \"category\"],\n",
    "    top=3\n",
    ")  \n",
    "  \n",
    "print_results(results)"
   ]
  },
  {
   "attachments": {},
   "cell_type": "markdown",
   "metadata": {},
   "source": [
    "## 필터가 적용된 순수 벡터 검색 수행\n",
    "이 예제는 인덱스에 필터를 적용하는 방법을 보여줍니다. Pre-Filtering(기본값) 또는 Post-Filtering 중 원하는 방식을 선택할 수 있습니다."
   ]
  },
  {
   "cell_type": "code",
   "execution_count": 17,
   "metadata": {},
   "outputs": [
    {
     "name": "stdout",
     "output_type": "stream",
     "text": [
      "Title: Azure 데브옵스\n",
      "Score: 0.6362665\n",
      "Content: Azure 데브옵스는 애플리케이션 계획, 빌드, 배포를 지원하는 서비스 모음입니다. Azure Boards(작업 추적), Azure Repos(소스 코드 관리), Azure Pipelines(CI/CD), Azure Test Plans(테스트), Azure Artifacts(패키지 관리) 등을 포함합니다. 다양한 언어, 프레임워크, 플랫폼을 지원하며, 기존 개발 도구 및 프로세스와 쉽게 통합할 수 있습니다. Azure App Service, Azure Functions 등 다른 Azure 서비스와도 연동됩니다.\n",
      "Category: 개발자 도구\n",
      "\n",
      "Title: Azure 데브테스트 랩\n",
      "Score: 0.6100094\n",
      "Content: Azure 데브테스트 랩은 Azure에서 개발 및 테스트 환경을 생성, 관리 및 공유할 수 있는 완전 관리형 서비스입니다. 사용자 지정 템플릿, 비용 관리, Azure DevOps와의 통합 등의 기능을 제공합니다. Windows, Linux, Kubernetes 등 다양한 플랫폼을 지원합니다. Azure 데브테스트 랩을 사용하여 애플리케이션 개발 수명 주기를 개선하고, 비용을 절감하며, 환경의 일관성을 보장할 수 있습니다. Azure Virtual Machines, Azure App Service 등 다른 Azure 서비스와 통합됩니다.\n",
      "Category: 개발자 도구\n",
      "\n",
      "Title: Azure 앱 구성\n",
      "Score: 0.5799921\n",
      "Content: Azure 앱 구성은 애플리케이션 설정 및 기능 플래그를 중앙에서 관리하고 배포할 수 있는 완전 관리형 구성 서비스입니다. 키-값 저장소, 버전 관리, 액세스 제어 등의 기능을 제공합니다. .NET, Java, Node.js, Python 등 다양한 플랫폼을 지원합니다. Azure 앱 구성을 사용하여 애플리케이션을 구축 및 배포하고, 설정의 일관성을 보장하며, 애플리케이션 수명 주기를 개선할 수 있습니다. Azure App Service, Azure Functions 등 다른 Azure 서비스와 통합됩니다.\n",
      "Category: 개발자 도구\n",
      "\n"
     ]
    }
   ],
   "source": [
    "from azure.search.documents.models import VectorFilterMode\n",
    "\n",
    "# Pure Vector Search\n",
    "query = \"소프트웨어 개발도구들\"  \n",
    "  \n",
    "vector_query = VectorizableTextQuery(text=query, k_nearest_neighbors=50, fields=\"contentVector\")\n",
    "\n",
    "results = search_client.search(  \n",
    "    search_text=None,  \n",
    "    vector_queries= [vector_query],\n",
    "    vector_filter_mode=VectorFilterMode.PRE_FILTER,\n",
    "    filter=\"category eq '개발자 도구'\",\n",
    "    select=[\"title\", \"content\", \"category\"],\n",
    "    top=3\n",
    ")\n",
    "  \n",
    "print_results(results)\n"
   ]
  },
  {
   "attachments": {},
   "cell_type": "markdown",
   "metadata": {},
   "source": [
    "## 하이브리드 검색 수행"
   ]
  },
  {
   "cell_type": "code",
   "execution_count": 18,
   "metadata": {},
   "outputs": [
    {
     "name": "stdout",
     "output_type": "stream",
     "text": [
      "Title: Azure 스토리지\n",
      "Score: 0.01666666753590107\n",
      "Content: Azure 스토리지는 다양한 데이터 유형(Blob, 파일, 큐, 테이블)을 지원하는 확장 가능하고 내구성 높은 클라우드 스토리지 서비스입니다. 비정형 데이터에 대한 대규모 객체 저장소를 제공합니다. 데이터 중복 및 지리적 복제를 지원하여 높은 내구성과 가용성을 보장합니다. REST API, SDK, Azure Portal 등 다양한 데이터 접근 및 관리 옵션을 제공하며, 저장 및 전송 시 암호화를 통해 데이터를 보호할 수 있습니다.\n",
      "Category: 스토리지\n",
      "\n",
      "Title: Azure 블롭 스토리지\n",
      "Score: 0.016393441706895828\n",
      "Content: Azure 블롭 스토리지는 비정형 데이터를 위한 확장 가능하고 내구성 있으며 고성능의 객체 스토리지 서비스입니다. 데이터 중복, 지리적 복제, 세분화된 액세스 제어 등의 기능을 제공합니다. 이미지, 문서, 비디오 등 다양한 데이터 유형을 지원합니다. 블롭 스토리지를 사용하여 데이터를 저장 및 관리하고, 데이터 레이크를 구축하며, 빅데이터 분석 솔루션을 개발할 수 있습니다. Azure CDN, Azure Functions, Azure Machine Learning 등 다른 Azure 서비스와 통합됩니다.\n",
      "Category: 스토리지\n",
      "\n",
      "Title: Azure 데이터 레이크 스토리지\n",
      "Score: 0.016129031777381897\n",
      "Content: Azure 데이터 레이크 스토리지는 빅데이터 분석을 위한 확장 가능하고 안전하며 비용 효율적인 스토리지 서비스입니다. 무제한 스토리지, 계층적 네임스페이스, 세분화된 액세스 제어 등의 기능을 제공합니다. 구조화된 데이터, 반구조화된 데이터, 비정형 데이터 등 다양한 데이터 유형을 지원합니다. 데이터 레이크 스토리지를 사용하여 데이터를 저장 및 분석하고, 데이터 레이크를 구축하며, 다른 Azure 서비스와 통합할 수 있습니다. Azure Databricks, Azure Machine Learning 등 다른 Azure 서비스와 통합됩니다.\n",
      "Category: 스토리지\n",
      "\n"
     ]
    }
   ],
   "source": [
    "# Hybrid Search\n",
    "query = \"대용량 저장하려면 어떤 솔루션이 좋을까?\"  \n",
    "  \n",
    "vector_query = VectorizableTextQuery(text=query, k_nearest_neighbors=50, fields=\"contentVector\")\n",
    "\n",
    "results = search_client.search(  \n",
    "    search_text=query,  \n",
    "    vector_queries=[vector_query],\n",
    "    select=[\"title\", \"content\", \"category\"],\n",
    "    top=3\n",
    ")  \n",
    "  \n",
    "print_results(results)\n"
   ]
  },
  {
   "cell_type": "markdown",
   "metadata": {},
   "source": [
    "## 가중치가 적용된 하이브리드 검색 수행\n",
    "\n",
    "벡터 쿼리와 텍스트 쿼리의 가중치를 조정합니다."
   ]
  },
  {
   "cell_type": "code",
   "execution_count": 19,
   "metadata": {},
   "outputs": [
    {
     "name": "stdout",
     "output_type": "stream",
     "text": [
      "Title: Azure 스토리지\n",
      "Score: 0.0033333336468786\n",
      "Content: Azure 스토리지는 다양한 데이터 유형(Blob, 파일, 큐, 테이블)을 지원하는 확장 가능하고 내구성 높은 클라우드 스토리지 서비스입니다. 비정형 데이터에 대한 대규모 객체 저장소를 제공합니다. 데이터 중복 및 지리적 복제를 지원하여 높은 내구성과 가용성을 보장합니다. REST API, SDK, Azure Portal 등 다양한 데이터 접근 및 관리 옵션을 제공하며, 저장 및 전송 시 암호화를 통해 데이터를 보호할 수 있습니다.\n",
      "Category: 스토리지\n",
      "\n",
      "Title: Azure 블롭 스토리지\n",
      "Score: 0.003278688294813037\n",
      "Content: Azure 블롭 스토리지는 비정형 데이터를 위한 확장 가능하고 내구성 있으며 고성능의 객체 스토리지 서비스입니다. 데이터 중복, 지리적 복제, 세분화된 액세스 제어 등의 기능을 제공합니다. 이미지, 문서, 비디오 등 다양한 데이터 유형을 지원합니다. 블롭 스토리지를 사용하여 데이터를 저장 및 관리하고, 데이터 레이크를 구축하며, 빅데이터 분석 솔루션을 개발할 수 있습니다. Azure CDN, Azure Functions, Azure Machine Learning 등 다른 Azure 서비스와 통합됩니다.\n",
      "Category: 스토리지\n",
      "\n",
      "Title: Azure 데이터 레이크 스토리지\n",
      "Score: 0.003225806402042508\n",
      "Content: Azure 데이터 레이크 스토리지는 빅데이터 분석을 위한 확장 가능하고 안전하며 비용 효율적인 스토리지 서비스입니다. 무제한 스토리지, 계층적 네임스페이스, 세분화된 액세스 제어 등의 기능을 제공합니다. 구조화된 데이터, 반구조화된 데이터, 비정형 데이터 등 다양한 데이터 유형을 지원합니다. 데이터 레이크 스토리지를 사용하여 데이터를 저장 및 분석하고, 데이터 레이크를 구축하며, 다른 Azure 서비스와 통합할 수 있습니다. Azure Databricks, Azure Machine Learning 등 다른 Azure 서비스와 통합됩니다.\n",
      "Category: 스토리지\n",
      "\n"
     ]
    }
   ],
   "source": [
    "# Hybrid Search\n",
    "query = \"대용량 저장하려면 어떤 솔루션이 좋을까?\"  \n",
    "  \n",
    "vector_query = VectorizableTextQuery(text=query, k_nearest_neighbors=50, fields=\"contentVector\", weight=0.2)\n",
    "\n",
    "results = search_client.search(  \n",
    "    search_text=query,  \n",
    "    vector_queries=[vector_query],\n",
    "    select=[\"title\", \"content\", \"category\"],\n",
    "    top=3\n",
    ")  \n",
    "  \n",
    "print_results(results)"
   ]
  },
  {
   "attachments": {},
   "cell_type": "markdown",
   "metadata": {},
   "source": [
    "## 시맨틱 하이브리드 검색 수행"
   ]
  },
  {
   "cell_type": "code",
   "execution_count": 20,
   "metadata": {},
   "outputs": [
    {
     "name": "stdout",
     "output_type": "stream",
     "text": [
      "Semantic Answer: Azure 퀀텀은 Azure를 사용하여 양자 애플리케이션을 구축하고 실행할 수 있는 완전 관리형 양자 컴퓨팅 서비스입니다. 양자 하드웨어, 양자 시뮬레이터, 양자 최적화 알고리즘 등의 기능을 제공합니다. Q#, Python, C# 등 다양한 프로그래밍 언어를 지원합니다. <em>Azure 퀀텀을</em><em> 사용하여 양자 컴퓨팅을 탐색하</em>고, 양자 알고리즘을 개발하며, 복잡한 최적화 문제를 해결할 수 있습니다. Azure Machine Learning, Azure Functions 등 다른 Azure 서비스와 통합됩니다.\n",
      "Semantic Answer Score: 0.9900000095367432\n",
      "\n",
      "Title: Azure 코그니티브 검색\n",
      "Score: 0.03229166567325592\n",
      "Reranker Score: 2.621738910675049\n",
      "Content: Azure 코그니티브 검색은 애플리케이션에 풍부한 검색 기능을 구축할 수 있는 완전 관리형 검색 서비스입니다. 전체 텍스트 검색, 계층형 탐색, 필터 등의 기능을 제공합니다. Azure SQL Database, Azure Blob Storage, Azure Cosmos DB 등 다양한 데이터 소스를 지원합니다. 코그니티브 검색을 사용하여 데이터를 인덱싱하고, 사용자 정의 점수 프로필을 생성하며, 다른 Azure 서비스와 통합할 수 있습니다. Azure Cognitive Services, Azure Machine Learning 등 다른 Azure 서비스와 통합됩니다.\n",
      "Category: AI + 머신러닝\n",
      "\n",
      "Caption: <em>Azure 코그니티브 검색은</em> 애플리케이션에 풍부한 검색 기능을 구축할 수 있는 완전 관리형<em> 검색 </em>서비스입니다. <em>전체 텍스트 검색, 계층형 탐색, 필터 등의 기능을 </em>제공합니다. <em>Azure SQL Database, Azure Blob Storage, Azure Cosmos DB 등 다양한 데이터 소스를 지원합니다.</em> 코그니티브 검색을 사용하여 데이터를 인덱싱하고, 사용자 정의 점수 프로필을 생성하며, 다른 Azure 서비스와 통합할 수 있습니다. Azure Cognitive Services, Azure Machine Learning 등 다른 Azure 서비스와 통합됩니다.\n",
      "\n",
      "Title: Azure 타임 시리즈 인사이트\n",
      "Score: 0.02744361013174057\n",
      "Reranker Score: 2.5418059825897217\n",
      "Content: Azure 타임 시리즈 인사이트는 시계열 데이터를 탐색하고 분석할 수 있는 완전 관리형 분석, 스토리지 및 시각화 서비스입니다. Azure IoT Hub, Azure Event Hubs, Azure Blob Storage 등 다양한 데이터 소스를 지원합니다. 실시간 데이터 스트리밍, 고급 쿼리, 패턴 인식 등의 기능을 제공합니다. 타임 시리즈 인사이트를 사용하여 IoT 장치를 모니터링하고, 이상 징후를 감지하며, 데이터에 대한 인사이트를 얻을 수 있습니다. Azure Stream Analytics, Azure Machine Learning 등 다른 Azure 서비스와 통합됩니다.\n",
      "Category: 분석\n",
      "\n",
      "Caption: <em>Azure 타임 시리즈 인사이트는</em><em> 시계열 데이터를 탐색하</em>고<em> 분석할</em> 수 있는 완전<em> 관리형 분석, 스토리지 및 시각화 </em>서비스입니다. <em>Azure IoT Hub, Azure Event Hubs, Azure Blob Storage 등 다양한 데이터 소스를 지원합</em>니다. 실시간 데이터 스트리밍, 고급 쿼리, 패턴 인식 등의 기능을 제공합니다. <em>타임 시리즈 인사이트를</em> 사용하여<em> IoT 장치를 모니터링하</em>고, 이상<em> 징후를</em> 감지하며,<em> 데이터에 대한 인사이트를 얻을 </em>수 있습니다. Azure Stream Analytics, Azure Machine Learning 등 다른 Azure 서비스와 통합됩니다.\n",
      "\n",
      "Title: Azure 파워 BI 임베디드\n",
      "Score: 0.016393441706895828\n",
      "Reranker Score: 2.348531723022461\n",
      "Content: Azure 파워 BI 임베디드는 애플리케이션에 대화형 시각화 및 보고서를 임베드할 수 있는 클라우드 기반 분석 서비스입니다. 데이터 탐색, 사용자 정의 시각화, 실시간 데이터 새로 고침 등의 기능을 제공합니다. Azure SQL Database, Azure Blob Storage, 온프레미스 데이터베이스 등 다양한 데이터 소스를 지원합니다. 파워 BI 임베디드를 사용하여 데이터 기반 애플리케이션을 구축하고, 의사 결정을 개선하며, 사용자 경험을 향상시킬 수 있습니다. Azure Synapse Analytics, Azure Machine Learning 등 다른 Azure 서비스와 통합됩니다.\n",
      "Category: 분석\n",
      "\n",
      "Caption: Azure 파워 BI 임베디드는 애플리케이션에 대화형 시각화 및 보고서를 임베드할 수 있는 클라우드 기반 분석 서비스입니다. <em>데이터 탐색,</em><em> 사용자 </em>정의 시각화, 실시간<em> 데이터 </em>새로 고<em>침 </em>등의 기능을 제공합니다. Azure SQL Database, Azure Blob Storage, 온프레미스 데이터베이스 등 다양한 데이터 소스를 지원합니다. 파워 BI 임베디드를 사용하여 데이터 기반 애플리케이션을 구축하고, 의사 결정을 개선하며, 사용자 경험을 향상시킬 수 있습니다. Azure Synapse Analytics, Azure Machine Learning 등 다른 Azure 서비스와 통합됩니다.\n",
      "\n"
     ]
    }
   ],
   "source": [
    "from azure.search.documents.models import QueryType, QueryCaptionType, QueryAnswerType\n",
    "\n",
    "# Semantic Hybrid Search\n",
    "query = \"azure 탐색?\"\n",
    "\n",
    "vector_query = VectorizableTextQuery(text=query, k_nearest_neighbors=50, fields=\"contentVector\", exhaustive=True)\n",
    "\n",
    "results = search_client.search(  \n",
    "    search_text=query,  \n",
    "    vector_queries=[vector_query],\n",
    "    select=[\"title\", \"content\", \"category\"],\n",
    "    query_type=QueryType.SEMANTIC,\n",
    "    semantic_configuration_name='my-semantic-config',\n",
    "    query_caption=QueryCaptionType.EXTRACTIVE,\n",
    "    query_answer=QueryAnswerType.EXTRACTIVE,\n",
    "    top=3\n",
    ")\n",
    "\n",
    "print_results(results)\n"
   ]
  },
  {
   "cell_type": "markdown",
   "metadata": {},
   "source": [
    "## 쿼리 리라이팅이 적용된 시맨틱 하이브리드 검색 수행\n",
    "\n",
    "+ [쿼리 리라이팅](https://learn.microsoft.com/azure/search/semantic-how-to-query-rewrite)과 시맨틱 랭커를 함께 사용합니다.\n",
    "+ debug 파라미터를 queryRewrites로 설정하면 쿼리가 어떻게 리라이팅되었는지 확인할 수 있습니다.\n",
    "+ 프로덕션 환경에서는 debug 파라미터 사용을 피하세요."
   ]
  },
  {
   "cell_type": "code",
   "execution_count": 21,
   "metadata": {},
   "outputs": [
    {
     "name": "stdout",
     "output_type": "stream",
     "text": [
      "Semantic Answer: Azure 코그니티브 서비스는 사전 구축된 모델 및 알고리즘을 사용하여 지능형 애플리케이션을 구축할 수 있는 AI 서비스 및 API 모음입니다. 컴퓨터 비전, 음성 인식, 자연어 처리 등의 기능을 제공합니다.. NET, Java, Node.js, Python 등 다양한 플랫폼을 지원합니다. Azure 코그니티브 서비스를 사용하여 챗봇을 구축하고, 이미지 및 비디오를 분석하며, 텍스트를 처리 및 이해할 수 있습니다. <em>Azure Machine Learning, Azure Cognitive Search </em>등 다른<em> Azure </em>서비스와 통합됩니다.\n",
      "Semantic Answer Score: 0.9919999837875366\n",
      "\n",
      "Title: Azure 코그니티브 검색\n",
      "Score: 0.03333333507180214\n",
      "Reranker Score: 3.147062063217163\n",
      "Content: Azure 코그니티브 검색은 애플리케이션에 풍부한 검색 기능을 구축할 수 있는 완전 관리형 검색 서비스입니다. 전체 텍스트 검색, 계층형 탐색, 필터 등의 기능을 제공합니다. Azure SQL Database, Azure Blob Storage, Azure Cosmos DB 등 다양한 데이터 소스를 지원합니다. 코그니티브 검색을 사용하여 데이터를 인덱싱하고, 사용자 정의 점수 프로필을 생성하며, 다른 Azure 서비스와 통합할 수 있습니다. Azure Cognitive Services, Azure Machine Learning 등 다른 Azure 서비스와 통합됩니다.\n",
      "Category: AI + 머신러닝\n",
      "\n",
      "Caption: <em>Azure 코그니티브 </em>검색은<em> 애플리케이션에 풍부한 검색 기능을 구축할 </em>수 있는<em> 완전 관리형 검색 서비스입</em>니다. <em>전체 텍스트 검색, 계층형 탐색, 필터 등의 기능을 제공합니다.</em> <em>Azure SQL Database, Azure Blob Storage, Azure Cosmos DB 등 다양한 데이터 소스를 지원합니다.</em> <em>코그니티브 </em>검색<em>을 사용하여 데이터를 인덱싱하고, 사용자 정의 점수 프로필을 생성하며, 다른 Azure 서비스와 통합할 수 있습니다.</em> Azure Cognitive Services, Azure Machine Learning 등 다른 Azure 서비스와 통합됩니다.\n",
      "\n",
      "Title: Azure 데이터 카탈로그\n",
      "Score: 0.032786883413791656\n",
      "Reranker Score: 2.9038963317871094\n",
      "Content: Azure 데이터 카탈로그는 데이터 소스를 검색, 이해 및 사용할 수 있는 완전 관리형 메타데이터 서비스입니다. 데이터 자산 등록, 메타데이터 검색, 데이터 계보 등의 기능을 제공합니다. Azure SQL Database, Azure Blob Storage, 온프레미스 파일 시스템 등 다양한 데이터 소스를 지원합니다. 데이터 카탈로그를 사용하여 통합된 데이터 카탈로그를 구축하고, 데이터 거버넌스를 개선하며, 데이터 검색 프로세스를 간소화할 수 있습니다. Azure Synapse Analytics, Azure Data Factory 등 다른 Azure 서비스와 통합됩니다.\n",
      "Category: 분석\n",
      "\n",
      "Caption: <em>Azure 데이터 카탈로그는</em><em> 데이터 소스를 검색, 이해 및 사용할 수 </em>있는<em> 완전 관리형 메타데이터 서비스입</em>니다. <em>데이터 자산 등록, 메타데이터 검색, 데이터 계보 등의 기능을 </em>제공합니다. <em>Azure SQL Database, Azure Blob Storage, 온프레미스 파일 시스템 등 다양한 데이터 소스를 지원합</em>니다. 데이터 카<em>탈로</em>그를 사용하여<em> 통합된 데이터 카탈로그를</em><em> 구축하</em>고,<em> 데이터 거버넌스를 개선하</em>며,<em> 데이터 검색 프로세스를 간소화할 </em>수 있습니다. <em>Azure Synapse Analytics, Azure Data Factory 등 다른 Azure 서비스와 통합됩니다.</em>\n",
      "\n",
      "Title: Azure 데이터 익스플로러\n",
      "Score: 0.021920563653111458\n",
      "Reranker Score: 2.460987091064453\n",
      "Content: Azure 데이터 익스플로러는 대량의 데이터를 실시간으로 분석할 수 있는 빠르고 완전 관리형 데이터 분석 서비스입니다. 데이터 수집, 쿼리, 시각화 등의 기능을 제공합니다. Azure Event Hubs, Azure IoT Hub, Azure Blob Storage 등 다양한 데이터 소스를 지원합니다. 데이터 익스플로러를 사용하여 로그를 분석하고, 애플리케이션을 모니터링하며, 데이터에 대한 인사이트를 얻을 수 있습니다. Azure Synapse Analytics, Azure Machine Learning 등 다른 Azure 서비스와 통합됩니다.\n",
      "Category: 분석\n",
      "\n",
      "Caption: <em>Azure 데이터 익스플로러는</em> 대량<em>의 데이터를 실시간으</em>로 분석할 수 있는 빠르고 완전<em> 관리형 데이터 분석 서비스입</em>니다. <em>데이터 수집, 쿼리, 시각화 등의 기능을 제공합니다.</em> <em>Azure Event Hubs, Azure IoT Hub, Azure Blob Storage 등 다양한 데이터 소스를 지원합니다.</em> <em>데이터 익스플로러를 사용하여 로그를 분석하고,</em><em> 애플리케이션을 모니터링하며,</em><em> 데이터에 대한 인사이트를 </em>얻을 수 있습니다. <em>Azure Synapse Analytics, Azure Machine Learning 등 다른 Azure 서비스와 통합됩니다.</em>\n",
      "\n",
      "Text Query Rewrites:\n",
      "['How to use Azure search', 'How to search in Azure', 'Search on Azure platform', 'Microsoft Azure search', 'How to search on Azure']\n",
      "Vector Query Rewrites:\n",
      "['How to use Azure search', 'How to search in Azure', 'Search on Azure platform', 'Microsoft Azure search', 'How to search on Azure']\n"
     ]
    }
   ],
   "source": [
    "from azure.search.documents.models import QueryType, QueryCaptionType, QueryAnswerType, QueryDebugMode\n",
    "from typing import Optional\n",
    "\n",
    "# Workaround required to use debug query rewrites with the preview SDK\n",
    "import azure.search.documents._generated.models\n",
    "azure.search.documents._generated.models.SearchDocumentsResult._attribute_map[\"debug_info\"][\"key\"] = \"@search\\\\.debug\"\n",
    "from azure.search.documents._generated.models import DebugInfo\n",
    "import azure.search.documents._paging\n",
    "def get_debug_info(self) -> Optional[DebugInfo]:\n",
    "    self.continuation_token = None\n",
    "    return self._response.debug_info\n",
    "azure.search.documents._paging.SearchPageIterator.get_debug_info = azure.search.documents._paging._ensure_response(get_debug_info)\n",
    "azure.search.documents._paging.SearchItemPaged.get_debug_info = lambda self: self._first_iterator_instance().get_debug_info()\n",
    "\n",
    "# Semantic Hybrid Search with Query Rewriting\n",
    "query = \"Azure 검색\"\n",
    "\n",
    "vector_query = VectorizableTextQuery(text=query, k_nearest_neighbors=50, fields=\"contentVector\", query_rewrites=\"generative|count-5\")\n",
    "\n",
    "results = search_client.search(  \n",
    "    search_text=query,  \n",
    "    vector_queries=[vector_query],\n",
    "    select=[\"title\", \"content\", \"category\"],\n",
    "    query_type=QueryType.SEMANTIC,\n",
    "    semantic_configuration_name='my-semantic-config',\n",
    "    query_rewrites=\"generative|count-5\",\n",
    "    query_language=\"en\",\n",
    "    debug=QueryDebugMode.QUERY_REWRITES,\n",
    "    query_caption=QueryCaptionType.EXTRACTIVE,\n",
    "    query_answer=QueryAnswerType.EXTRACTIVE,\n",
    "    top=3\n",
    ")\n",
    "\n",
    "text_query_rewrites = results.get_debug_info().query_rewrites.text.rewrites\n",
    "vector_query_rewrites = results.get_debug_info().query_rewrites.vectors[0].rewrites\n",
    "print_results(results)\n",
    "\n",
    "print(\"Text Query Rewrites:\")\n",
    "print(text_query_rewrites)\n",
    "print(\"Vector Query Rewrites:\")\n",
    "print(vector_query_rewrites)"
   ]
  }
 ],
 "metadata": {
  "kernelspec": {
   "display_name": ".venv",
   "language": "python",
   "name": "python3"
  },
  "language_info": {
   "codemirror_mode": {
    "name": "ipython",
    "version": 3
   },
   "file_extension": ".py",
   "mimetype": "text/x-python",
   "name": "python",
   "nbconvert_exporter": "python",
   "pygments_lexer": "ipython3",
   "version": "3.12.10"
  },
  "orig_nbformat": 4
 },
 "nbformat": 4,
 "nbformat_minor": 2
}
