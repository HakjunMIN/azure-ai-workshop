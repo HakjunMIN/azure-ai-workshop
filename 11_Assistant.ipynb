{
 "cells": [
  {
   "cell_type": "markdown",
   "metadata": {},
   "source": [
    "# Assistant\n",
    "\n",
    "\n",
    "Azure OpenAI Assistants를 사용하면 사용자 지정 지침과 코드 인터프리터, 사용자 지정 함수와 같은 고급 도구를 통해 필요에 맞는 AI 어시스턴트를 만들 수 있습니다. 이 문서에서는 Assistants API를 시작하는 방법에 대한 심층적인 가이드를 제공합니다.\n",
    "\n",
    "\n",
    "## API 버전: 2024-02-15-preview\n",
    "사용 가능 여부 확인: \n",
    "\n",
    "https://learn.microsoft.com/en-us/azure/ai-services/openai/concepts/models#assistants-preview"
   ]
  },
  {
   "cell_type": "markdown",
   "metadata": {},
   "source": [
    "## 어시스턴트 생성"
   ]
  },
  {
   "cell_type": "code",
   "execution_count": 31,
   "metadata": {},
   "outputs": [],
   "source": [
    "import os\n",
    "import json\n",
    "from openai import AzureOpenAI\n",
    "from dotenv import load_dotenv\n",
    "\n",
    "# Load the environment variables from the .env file\n",
    "load_dotenv(override=True)\n",
    "    \n",
    "client = AzureOpenAI(\n",
    "    api_key=os.getenv(\"AZURE_OPENAI_KEY\"),  \n",
    "    api_version=\"2025-03-01-preview\",\n",
    "    azure_endpoint = os.getenv(\"AZURE_OPENAI_ENDPOINT\"),\n",
    ")\n",
    "\n",
    "# Create an assistant\n",
    "assistant = client.beta.assistants.create(\n",
    "    name=\"Data Visualization\",\n",
    "    instructions=\n",
    "    \"\"\"\n",
    "        당신은 데이터 기반으로 흥미로운 시각화를 만드는 유용한 AI 어시스턴트입니다.\n",
    "        코드를 작성하고 테스트할 수 있는 샌드박스 환경에 접근할 수 있습니다.\n",
    "        시각화 생성을 요청받으면 다음 단계를 따르세요:\n",
    "        1. 코드를 작성하세요.\n",
    "        2. 새로운 코드를 작성할 때마다 미리보기를 표시하여 작업 과정을 보여주세요.\n",
    "        3. 코드를 실행하여 정상 동작하는지 확인하세요.\n",
    "        4. 코드가 성공적으로 실행되면 시각화를 표시하세요.\n",
    "        5. 코드 실행에 실패하면 오류 메시지를 표시하고, 코드를 수정하여 위 단계를 반복하세요.\n",
    "    \"\"\",\n",
    "    tools=[{\"type\": \"code_interpreter\"}],\n",
    "    model = os.getenv(\"AZURE_OPENAI_DEPLOYMENT_NAME\")\n",
    ")"
   ]
  },
  {
   "cell_type": "code",
   "execution_count": 9,
   "metadata": {},
   "outputs": [
    {
     "name": "stdout",
     "output_type": "stream",
     "text": [
      "{\n",
      "  \"id\": \"asst_pBSvgA9ZQ8kPpt6dwLHwEBQm\",\n",
      "  \"created_at\": 1746671759,\n",
      "  \"description\": null,\n",
      "  \"instructions\": \"\\n        당신은 데이터 기반으로 흥미로운 시각화를 만드는 유용한 AI 어시스턴트입니다.\\n        코드를 작성하고 테스트할 수 있는 샌드박스 환경에 접근할 수 있습니다.\\n        시각화 생성을 요청받으면 다음 단계를 따르세요:\\n        1. 코드를 작성하세요.\\n        2. 새로운 코드를 작성할 때마다 미리보기를 표시하여 작업 과정을 보여주세요.\\n        3. 코드를 실행하여 정상 동작하는지 확인하세요.\\n        4. 코드가 성공적으로 실행되면 시각화를 표시하세요.\\n        5. 코드 실행에 실패하면 오류 메시지를 표시하고, 코드를 수정하여 위 단계를 반복하세요.\\n    \",\n",
      "  \"metadata\": {},\n",
      "  \"model\": \"gpt-4\",\n",
      "  \"name\": \"Data Visualization\",\n",
      "  \"object\": \"assistant\",\n",
      "  \"tools\": [\n",
      "    {\n",
      "      \"type\": \"code_interpreter\"\n",
      "    }\n",
      "  ],\n",
      "  \"response_format\": \"auto\",\n",
      "  \"temperature\": 1.0,\n",
      "  \"tool_resources\": {\n",
      "    \"code_interpreter\": {\n",
      "      \"file_ids\": []\n",
      "    },\n",
      "    \"file_search\": null\n",
      "  },\n",
      "  \"top_p\": 1.0\n",
      "}\n"
     ]
    }
   ],
   "source": [
    "print(assistant.model_dump_json(indent=2))"
   ]
  },
  {
   "cell_type": "markdown",
   "metadata": {},
   "source": [
    "## 스레드 생성\n",
    "\n",
    "스레드는 어시스턴트와 사용자 간의 대화 세션입니다. 스레드는 메시지를 저장하며 모델의 컨텍스트에 맞게 내용을 자동으로 잘라냅니다."
   ]
  },
  {
   "cell_type": "code",
   "execution_count": 10,
   "metadata": {},
   "outputs": [
    {
     "name": "stdout",
     "output_type": "stream",
     "text": [
      "Thread(id='thread_vM9xTzH3FygdlwKdjiipp7U9', created_at=1746671777, metadata={}, object='thread', tool_resources=ToolResources(code_interpreter=None, file_search=None))\n"
     ]
    }
   ],
   "source": [
    "# Create a thread\n",
    "thread = client.beta.threads.create()\n",
    "print(thread)"
   ]
  },
  {
   "cell_type": "code",
   "execution_count": 11,
   "metadata": {},
   "outputs": [],
   "source": [
    "# Add a user question to the thread\n",
    "message = client.beta.threads.messages.create(\n",
    "    thread_id=thread.id,\n",
    "    role=\"user\",\n",
    "    content=\"사인파 시각화 만들기\"\n",
    ")"
   ]
  },
  {
   "cell_type": "code",
   "execution_count": 12,
   "metadata": {},
   "outputs": [
    {
     "name": "stdout",
     "output_type": "stream",
     "text": [
      "{\n",
      "  \"data\": [\n",
      "    {\n",
      "      \"id\": \"msg_HpcI79yL4V0tobf87NLmPXj2\",\n",
      "      \"assistant_id\": null,\n",
      "      \"attachments\": [],\n",
      "      \"completed_at\": null,\n",
      "      \"content\": [\n",
      "        {\n",
      "          \"text\": {\n",
      "            \"annotations\": [],\n",
      "            \"value\": \"사인파 시각화 만들기\"\n",
      "          },\n",
      "          \"type\": \"text\"\n",
      "        }\n",
      "      ],\n",
      "      \"created_at\": 1746671795,\n",
      "      \"incomplete_at\": null,\n",
      "      \"incomplete_details\": null,\n",
      "      \"metadata\": {},\n",
      "      \"object\": \"thread.message\",\n",
      "      \"role\": \"user\",\n",
      "      \"run_id\": null,\n",
      "      \"status\": null,\n",
      "      \"thread_id\": \"thread_vM9xTzH3FygdlwKdjiipp7U9\"\n",
      "    }\n",
      "  ],\n",
      "  \"object\": \"list\",\n",
      "  \"first_id\": \"msg_HpcI79yL4V0tobf87NLmPXj2\",\n",
      "  \"last_id\": \"msg_HpcI79yL4V0tobf87NLmPXj2\",\n",
      "  \"has_more\": false\n",
      "}\n"
     ]
    }
   ],
   "source": [
    "# list thread messages\n",
    "thread_messages = client.beta.threads.messages.list(thread.id)\n",
    "print(thread_messages.model_dump_json(indent=2))"
   ]
  },
  {
   "cell_type": "code",
   "execution_count": 13,
   "metadata": {},
   "outputs": [],
   "source": [
    "# create a thread\n",
    "# you can also use intructions here to override the default instructions\n",
    "run = client.beta.threads.runs.create(\n",
    "  thread_id=thread.id,\n",
    "  assistant_id=assistant.id,\n",
    ")"
   ]
  },
  {
   "cell_type": "code",
   "execution_count": 15,
   "metadata": {},
   "outputs": [
    {
     "name": "stdout",
     "output_type": "stream",
     "text": [
      "in_progress\n"
     ]
    }
   ],
   "source": [
    "# retrieve thread status\n",
    "# Retrieve the status of the run\n",
    "run = client.beta.threads.runs.retrieve(\n",
    "  thread_id=thread.id,\n",
    "  run_id=run.id\n",
    ")\n",
    "\n",
    "status = run.status\n",
    "print(status)"
   ]
  },
  {
   "cell_type": "code",
   "execution_count": 28,
   "metadata": {},
   "outputs": [
    {
     "name": "stdout",
     "output_type": "stream",
     "text": [
      "Status: completed\n",
      "Elapsed time: 0 minutes 7 seconds\n",
      "{\n",
      "  \"data\": [\n",
      "    {\n",
      "      \"id\": \"msg_lncGKrBxQ0OdKfFZwX4xAlec\",\n",
      "      \"assistant_id\": \"asst_pBSvgA9ZQ8kPpt6dwLHwEBQm\",\n",
      "      \"attachments\": [],\n",
      "      \"completed_at\": null,\n",
      "      \"content\": [\n",
      "        {\n",
      "          \"text\": {\n",
      "            \"annotations\": [],\n",
      "            \"value\": \"아래는 사인파를 생성하고 시각화하는 데 사용한 코드입니다:\\n\\n```python\\nimport numpy as np\\nimport matplotlib.pyplot as plt\\n\\n# Generate data for the sine wave\\nx = np.linspace(0, 2 * np.pi, 1000)\\ny = np.sin(x)\\n\\n# Plot the sine wave\\nplt.figure(figsize=(10, 5))\\nplt.plot(x, y, label='Sine wave')\\nplt.title(\\\"Sine Wave\\\")\\nplt.xlabel(\\\"x\\\")\\nplt.ylabel(\\\"sin(x)\\\")\\nplt.grid(True)\\nplt.legend()\\nplt.show()\\n```\\n\\n이 코드는 `numpy` 라이브러리를 사용하여 `0`에서 \\\\(2\\\\pi\\\\)까지 균등하게 분포된 1000개의 점을 포함하는 배열 `x`를 생성합니다. 그런 다음 사인 함수를 사용하여 각 점에 대한 값을 계산하여 배열 `y`에 저장합니다. 마지막으로 `matplotlib` 라이브러리를 사용하여 사인파를 그립니다.\"\n",
      "          },\n",
      "          \"type\": \"text\"\n",
      "        }\n",
      "      ],\n",
      "      \"created_at\": 1746671867,\n",
      "      \"incomplete_at\": null,\n",
      "      \"incomplete_details\": null,\n",
      "      \"metadata\": {},\n",
      "      \"object\": \"thread.message\",\n",
      "      \"role\": \"assistant\",\n",
      "      \"run_id\": \"run_JuS90ZKtueumSBvFA5UOd3b5\",\n",
      "      \"status\": null,\n",
      "      \"thread_id\": \"thread_vM9xTzH3FygdlwKdjiipp7U9\"\n",
      "    },\n",
      "    {\n",
      "      \"id\": \"msg_okEVngNHiWuJuvEdFDXtbeIC\",\n",
      "      \"assistant_id\": null,\n",
      "      \"attachments\": [],\n",
      "      \"completed_at\": null,\n",
      "      \"content\": [\n",
      "        {\n",
      "          \"text\": {\n",
      "            \"annotations\": [],\n",
      "            \"value\": \"사인파를 생성하는 데 사용한 생성된 코드를 보여주세요.\"\n",
      "          },\n",
      "          \"type\": \"text\"\n",
      "        }\n",
      "      ],\n",
      "      \"created_at\": 1746671858,\n",
      "      \"incomplete_at\": null,\n",
      "      \"incomplete_details\": null,\n",
      "      \"metadata\": {},\n",
      "      \"object\": \"thread.message\",\n",
      "      \"role\": \"user\",\n",
      "      \"run_id\": null,\n",
      "      \"status\": null,\n",
      "      \"thread_id\": \"thread_vM9xTzH3FygdlwKdjiipp7U9\"\n",
      "    },\n",
      "    {\n",
      "      \"id\": \"msg_8Dlp2c7zHqpwp9DS8EisOoSO\",\n",
      "      \"assistant_id\": \"asst_pBSvgA9ZQ8kPpt6dwLHwEBQm\",\n",
      "      \"attachments\": [],\n",
      "      \"completed_at\": null,\n",
      "      \"content\": [\n",
      "        {\n",
      "          \"image_file\": {\n",
      "            \"file_id\": \"assistant-BhkJ7ZfoHVxrdtAE9JB7Qu\",\n",
      "            \"detail\": null\n",
      "          },\n",
      "          \"type\": \"image_file\"\n",
      "        },\n",
      "        {\n",
      "          \"text\": {\n",
      "            \"annotations\": [],\n",
      "            \"value\": \"위의 시각화는 \\\\( y = \\\\sin(x) \\\\)의 사인파를 나타낸 것입니다. x축은 \\\\( 0 \\\\)에서 \\\\( 2\\\\pi \\\\)까지의 값을, y축은 사인 함수에 의한 결과 값을 나타냅니다. 그리드는 사인파의 주기와 진폭을 쉽게 볼 수 있도록 설정되어 있습니다. 다른 시각화나 추가적인 설명이 필요하면 말씀해 주세요!\"\n",
      "          },\n",
      "          \"type\": \"text\"\n",
      "        }\n",
      "      ],\n",
      "      \"created_at\": 1746671815,\n",
      "      \"incomplete_at\": null,\n",
      "      \"incomplete_details\": null,\n",
      "      \"metadata\": {},\n",
      "      \"object\": \"thread.message\",\n",
      "      \"role\": \"assistant\",\n",
      "      \"run_id\": \"run_XGTPnOWVEpdGVSifhdunJkl8\",\n",
      "      \"status\": null,\n",
      "      \"thread_id\": \"thread_vM9xTzH3FygdlwKdjiipp7U9\"\n",
      "    },\n",
      "    {\n",
      "      \"id\": \"msg_HpcI79yL4V0tobf87NLmPXj2\",\n",
      "      \"assistant_id\": null,\n",
      "      \"attachments\": [],\n",
      "      \"completed_at\": null,\n",
      "      \"content\": [\n",
      "        {\n",
      "          \"text\": {\n",
      "            \"annotations\": [],\n",
      "            \"value\": \"사인파 시각화 만들기\"\n",
      "          },\n",
      "          \"type\": \"text\"\n",
      "        }\n",
      "      ],\n",
      "      \"created_at\": 1746671795,\n",
      "      \"incomplete_at\": null,\n",
      "      \"incomplete_details\": null,\n",
      "      \"metadata\": {},\n",
      "      \"object\": \"thread.message\",\n",
      "      \"role\": \"user\",\n",
      "      \"run_id\": null,\n",
      "      \"status\": null,\n",
      "      \"thread_id\": \"thread_vM9xTzH3FygdlwKdjiipp7U9\"\n",
      "    }\n",
      "  ],\n",
      "  \"object\": \"list\",\n",
      "  \"first_id\": \"msg_lncGKrBxQ0OdKfFZwX4xAlec\",\n",
      "  \"last_id\": \"msg_HpcI79yL4V0tobf87NLmPXj2\",\n",
      "  \"has_more\": false\n",
      "}\n"
     ]
    }
   ],
   "source": [
    "# check the status of the run\n",
    "import time\n",
    "from IPython.display import clear_output\n",
    "\n",
    "start_time = time.time()\n",
    "\n",
    "status = run.status\n",
    "\n",
    "while status not in [\"completed\", \"cancelled\", \"expired\", \"failed\"]:\n",
    "    time.sleep(5)\n",
    "    run = client.beta.threads.runs.retrieve(thread_id=thread.id,run_id=run.id)\n",
    "    print(\"Elapsed time: {} minutes {} seconds\".format(int((time.time() - start_time) // 60), int((time.time() - start_time) % 60)))\n",
    "    status = run.status\n",
    "    print(f'Status: {status}')\n",
    "    clear_output(wait=True)\n",
    "\n",
    "messages = client.beta.threads.messages.list(\n",
    "  thread_id=thread.id\n",
    ") \n",
    "\n",
    "print(f'Status: {status}')\n",
    "print(\"Elapsed time: {} minutes {} seconds\".format(int((time.time() - start_time) // 60), int((time.time() - start_time) % 60)))\n",
    "print(messages.model_dump_json(indent=2))"
   ]
  },
  {
   "cell_type": "code",
   "execution_count": 17,
   "metadata": {},
   "outputs": [
    {
     "name": "stdout",
     "output_type": "stream",
     "text": [
      "{\n",
      "  \"data\": [\n",
      "    {\n",
      "      \"id\": \"msg_8Dlp2c7zHqpwp9DS8EisOoSO\",\n",
      "      \"assistant_id\": \"asst_pBSvgA9ZQ8kPpt6dwLHwEBQm\",\n",
      "      \"attachments\": [],\n",
      "      \"completed_at\": null,\n",
      "      \"content\": [\n",
      "        {\n",
      "          \"image_file\": {\n",
      "            \"file_id\": \"assistant-BhkJ7ZfoHVxrdtAE9JB7Qu\",\n",
      "            \"detail\": null\n",
      "          },\n",
      "          \"type\": \"image_file\"\n",
      "        },\n",
      "        {\n",
      "          \"text\": {\n",
      "            \"annotations\": [],\n",
      "            \"value\": \"위의 시각화는 \\\\( y = \\\\sin(x) \\\\)의 사인파를 나타낸 것입니다. x축은 \\\\( 0 \\\\)에서 \\\\( 2\\\\pi \\\\)까지의 값을, y축은 사인 함수에 의한 결과 값을 나타냅니다. 그리드는 사인파의 주기와 진폭을 쉽게 볼 수 있도록 설정되어 있습니다. 다른 시각화나 추가적인 설명이 필요하면 말씀해 주세요!\"\n",
      "          },\n",
      "          \"type\": \"text\"\n",
      "        }\n",
      "      ],\n",
      "      \"created_at\": 1746671815,\n",
      "      \"incomplete_at\": null,\n",
      "      \"incomplete_details\": null,\n",
      "      \"metadata\": {},\n",
      "      \"object\": \"thread.message\",\n",
      "      \"role\": \"assistant\",\n",
      "      \"run_id\": \"run_XGTPnOWVEpdGVSifhdunJkl8\",\n",
      "      \"status\": null,\n",
      "      \"thread_id\": \"thread_vM9xTzH3FygdlwKdjiipp7U9\"\n",
      "    },\n",
      "    {\n",
      "      \"id\": \"msg_HpcI79yL4V0tobf87NLmPXj2\",\n",
      "      \"assistant_id\": null,\n",
      "      \"attachments\": [],\n",
      "      \"completed_at\": null,\n",
      "      \"content\": [\n",
      "        {\n",
      "          \"text\": {\n",
      "            \"annotations\": [],\n",
      "            \"value\": \"사인파 시각화 만들기\"\n",
      "          },\n",
      "          \"type\": \"text\"\n",
      "        }\n",
      "      ],\n",
      "      \"created_at\": 1746671795,\n",
      "      \"incomplete_at\": null,\n",
      "      \"incomplete_details\": null,\n",
      "      \"metadata\": {},\n",
      "      \"object\": \"thread.message\",\n",
      "      \"role\": \"user\",\n",
      "      \"run_id\": null,\n",
      "      \"status\": null,\n",
      "      \"thread_id\": \"thread_vM9xTzH3FygdlwKdjiipp7U9\"\n",
      "    }\n",
      "  ],\n",
      "  \"object\": \"list\",\n",
      "  \"first_id\": \"msg_8Dlp2c7zHqpwp9DS8EisOoSO\",\n",
      "  \"last_id\": \"msg_HpcI79yL4V0tobf87NLmPXj2\",\n",
      "  \"has_more\": false\n",
      "}\n"
     ]
    }
   ],
   "source": [
    "messages = client.beta.threads.messages.list(\n",
    "  thread_id=thread.id\n",
    ")\n",
    "\n",
    "print(messages.model_dump_json(indent=2))"
   ]
  },
  {
   "cell_type": "code",
   "execution_count": 18,
   "metadata": {},
   "outputs": [
    {
     "name": "stdout",
     "output_type": "stream",
     "text": [
      "assistant-BhkJ7ZfoHVxrdtAE9JB7Qu\n"
     ]
    }
   ],
   "source": [
    "# show the file name\n",
    "data = json.loads(messages.model_dump_json(indent=2))  # Load JSON data into a Python object\n",
    "image_file_id = data['data'][0]['content'][0]['image_file']['file_id']\n",
    "\n",
    "print(image_file_id)  # Outputs: assistant-1YGVTvNzc2JXajI5JU9F0HMD"
   ]
  },
  {
   "cell_type": "code",
   "execution_count": 29,
   "metadata": {},
   "outputs": [],
   "source": [
    "# download the file\n",
    "content = client.files.content(image_file_id)\n",
    "\n",
    "image= content.write_to_file(\"sinewave.png\")"
   ]
  },
  {
   "cell_type": "code",
   "execution_count": 20,
   "metadata": {},
   "outputs": [],
   "source": [
    "# rewrite the code to display the image in jupyter notebook\n",
    "\n",
    "from PIL import Image\n",
    "\n",
    "# Display the image in the default image viewer\n",
    "image = Image.open(\"sinewave.png\")\n",
    "image.show()"
   ]
  },
  {
   "cell_type": "markdown",
   "metadata": {},
   "source": [
    "## 후속 질문하기"
   ]
  },
  {
   "cell_type": "code",
   "execution_count": 21,
   "metadata": {},
   "outputs": [],
   "source": [
    "# Add a new user question to the thread\n",
    "message = client.beta.threads.messages.create(\n",
    "    thread_id=thread.id,\n",
    "    role=\"user\",\n",
    "    content=\"사인파를 생성하는 데 사용한 생성된 코드를 보여주세요.\"\n",
    ")"
   ]
  },
  {
   "cell_type": "code",
   "execution_count": 22,
   "metadata": {},
   "outputs": [
    {
     "name": "stdout",
     "output_type": "stream",
     "text": [
      "in_progress\n"
     ]
    }
   ],
   "source": [
    "run = client.beta.threads.runs.create(\n",
    "  thread_id=thread.id,\n",
    "  assistant_id=assistant.id,\n",
    "  #instructions=\"New instructions\" #You can optionally provide new instructions  but these will override the default instructions\n",
    ")\n",
    "\n",
    "# Retrieve the status of the run\n",
    "run = client.beta.threads.runs.retrieve(\n",
    "  thread_id=thread.id,\n",
    "  run_id=run.id\n",
    ")\n",
    "\n",
    "status = run.status\n",
    "print(status)"
   ]
  },
  {
   "cell_type": "code",
   "execution_count": 25,
   "metadata": {},
   "outputs": [
    {
     "name": "stdout",
     "output_type": "stream",
     "text": [
      "{\n",
      "  \"data\": [\n",
      "    {\n",
      "      \"id\": \"msg_lncGKrBxQ0OdKfFZwX4xAlec\",\n",
      "      \"assistant_id\": \"asst_pBSvgA9ZQ8kPpt6dwLHwEBQm\",\n",
      "      \"attachments\": [],\n",
      "      \"completed_at\": null,\n",
      "      \"content\": [\n",
      "        {\n",
      "          \"text\": {\n",
      "            \"annotations\": [],\n",
      "            \"value\": \"아래는 사인파를 생성하고 시각화하는 데 사용한 코드입니다:\\n\\n```python\\nimport numpy as np\\nimport matplotlib.pyplot as plt\\n\\n# Generate data for the sine wave\\nx = np.linspace(0, 2 * np.pi, 1000)\\ny = np.sin(x)\\n\\n# Plot the sine wave\\nplt.figure(figsize=(10, 5))\\nplt.plot(x, y, label='Sine wave')\\nplt.title(\\\"Sine Wave\\\")\\nplt.xlabel(\\\"x\\\")\\nplt.ylabel(\\\"sin(x)\\\")\\nplt.grid(True)\\nplt.legend()\\nplt.show()\\n```\\n\\n이 코드는 `numpy` 라이브러리를 사용하여 `0`에서 \\\\(2\\\\pi\\\\)까지 균등하게 분포된 1000개의 점을 포함하는 배열 `x`를 생성합니다. 그런 다음 사인 함수를 사용하여 각 점에 대한 값을 계산하여 배열 `y`에 저장합니다. 마지막으로 `matplotlib` 라이브러리를 사용하여 사인파를 그립니다.\"\n",
      "          },\n",
      "          \"type\": \"text\"\n",
      "        }\n",
      "      ],\n",
      "      \"created_at\": 1746671867,\n",
      "      \"incomplete_at\": null,\n",
      "      \"incomplete_details\": null,\n",
      "      \"metadata\": {},\n",
      "      \"object\": \"thread.message\",\n",
      "      \"role\": \"assistant\",\n",
      "      \"run_id\": \"run_JuS90ZKtueumSBvFA5UOd3b5\",\n",
      "      \"status\": null,\n",
      "      \"thread_id\": \"thread_vM9xTzH3FygdlwKdjiipp7U9\"\n",
      "    },\n",
      "    {\n",
      "      \"id\": \"msg_okEVngNHiWuJuvEdFDXtbeIC\",\n",
      "      \"assistant_id\": null,\n",
      "      \"attachments\": [],\n",
      "      \"completed_at\": null,\n",
      "      \"content\": [\n",
      "        {\n",
      "          \"text\": {\n",
      "            \"annotations\": [],\n",
      "            \"value\": \"사인파를 생성하는 데 사용한 생성된 코드를 보여주세요.\"\n",
      "          },\n",
      "          \"type\": \"text\"\n",
      "        }\n",
      "      ],\n",
      "      \"created_at\": 1746671858,\n",
      "      \"incomplete_at\": null,\n",
      "      \"incomplete_details\": null,\n",
      "      \"metadata\": {},\n",
      "      \"object\": \"thread.message\",\n",
      "      \"role\": \"user\",\n",
      "      \"run_id\": null,\n",
      "      \"status\": null,\n",
      "      \"thread_id\": \"thread_vM9xTzH3FygdlwKdjiipp7U9\"\n",
      "    },\n",
      "    {\n",
      "      \"id\": \"msg_8Dlp2c7zHqpwp9DS8EisOoSO\",\n",
      "      \"assistant_id\": \"asst_pBSvgA9ZQ8kPpt6dwLHwEBQm\",\n",
      "      \"attachments\": [],\n",
      "      \"completed_at\": null,\n",
      "      \"content\": [\n",
      "        {\n",
      "          \"image_file\": {\n",
      "            \"file_id\": \"assistant-BhkJ7ZfoHVxrdtAE9JB7Qu\",\n",
      "            \"detail\": null\n",
      "          },\n",
      "          \"type\": \"image_file\"\n",
      "        },\n",
      "        {\n",
      "          \"text\": {\n",
      "            \"annotations\": [],\n",
      "            \"value\": \"위의 시각화는 \\\\( y = \\\\sin(x) \\\\)의 사인파를 나타낸 것입니다. x축은 \\\\( 0 \\\\)에서 \\\\( 2\\\\pi \\\\)까지의 값을, y축은 사인 함수에 의한 결과 값을 나타냅니다. 그리드는 사인파의 주기와 진폭을 쉽게 볼 수 있도록 설정되어 있습니다. 다른 시각화나 추가적인 설명이 필요하면 말씀해 주세요!\"\n",
      "          },\n",
      "          \"type\": \"text\"\n",
      "        }\n",
      "      ],\n",
      "      \"created_at\": 1746671815,\n",
      "      \"incomplete_at\": null,\n",
      "      \"incomplete_details\": null,\n",
      "      \"metadata\": {},\n",
      "      \"object\": \"thread.message\",\n",
      "      \"role\": \"assistant\",\n",
      "      \"run_id\": \"run_XGTPnOWVEpdGVSifhdunJkl8\",\n",
      "      \"status\": null,\n",
      "      \"thread_id\": \"thread_vM9xTzH3FygdlwKdjiipp7U9\"\n",
      "    },\n",
      "    {\n",
      "      \"id\": \"msg_HpcI79yL4V0tobf87NLmPXj2\",\n",
      "      \"assistant_id\": null,\n",
      "      \"attachments\": [],\n",
      "      \"completed_at\": null,\n",
      "      \"content\": [\n",
      "        {\n",
      "          \"text\": {\n",
      "            \"annotations\": [],\n",
      "            \"value\": \"사인파 시각화 만들기\"\n",
      "          },\n",
      "          \"type\": \"text\"\n",
      "        }\n",
      "      ],\n",
      "      \"created_at\": 1746671795,\n",
      "      \"incomplete_at\": null,\n",
      "      \"incomplete_details\": null,\n",
      "      \"metadata\": {},\n",
      "      \"object\": \"thread.message\",\n",
      "      \"role\": \"user\",\n",
      "      \"run_id\": null,\n",
      "      \"status\": null,\n",
      "      \"thread_id\": \"thread_vM9xTzH3FygdlwKdjiipp7U9\"\n",
      "    }\n",
      "  ],\n",
      "  \"object\": \"list\",\n",
      "  \"first_id\": \"msg_lncGKrBxQ0OdKfFZwX4xAlec\",\n",
      "  \"last_id\": \"msg_HpcI79yL4V0tobf87NLmPXj2\",\n",
      "  \"has_more\": false\n",
      "}\n"
     ]
    }
   ],
   "source": [
    "messages = client.beta.threads.messages.list(\n",
    "  thread_id=thread.id\n",
    ")\n",
    "\n",
    "print(messages.model_dump_json(indent=2))"
   ]
  },
  {
   "cell_type": "code",
   "execution_count": 27,
   "metadata": {},
   "outputs": [
    {
     "name": "stdout",
     "output_type": "stream",
     "text": [
      "아래는 사인파를 생성하고 시각화하는 데 사용한 코드입니다:\n",
      "\n",
      "```python\n",
      "import numpy as np\n",
      "import matplotlib.pyplot as plt\n",
      "\n",
      "# Generate data for the sine wave\n",
      "x = np.linspace(0, 2 * np.pi, 1000)\n",
      "y = np.sin(x)\n",
      "\n",
      "# Plot the sine wave\n",
      "plt.figure(figsize=(10, 5))\n",
      "plt.plot(x, y, label='Sine wave')\n",
      "plt.title(\"Sine Wave\")\n",
      "plt.xlabel(\"x\")\n",
      "plt.ylabel(\"sin(x)\")\n",
      "plt.grid(True)\n",
      "plt.legend()\n",
      "plt.show()\n",
      "```\n",
      "\n",
      "이 코드는 `numpy` 라이브러리를 사용하여 `0`에서 \\(2\\pi\\)까지 균등하게 분포된 1000개의 점을 포함하는 배열 `x`를 생성합니다. 그런 다음 사인 함수를 사용하여 각 점에 대한 값을 계산하여 배열 `y`에 저장합니다. 마지막으로 `matplotlib` 라이브러리를 사용하여 사인파를 그립니다.\n"
     ]
    }
   ],
   "source": [
    "# Print the code\n",
    "data = json.loads(messages.model_dump_json(indent=2))\n",
    "code = data['data'][0]['content'][0]['text']['value']\n",
    "print(code)"
   ]
  }
 ],
 "metadata": {
  "kernelspec": {
   "display_name": ".venv",
   "language": "python",
   "name": "python3"
  },
  "language_info": {
   "codemirror_mode": {
    "name": "ipython",
    "version": 3
   },
   "file_extension": ".py",
   "mimetype": "text/x-python",
   "name": "python",
   "nbconvert_exporter": "python",
   "pygments_lexer": "ipython3",
   "version": "3.12.10"
  }
 },
 "nbformat": 4,
 "nbformat_minor": 2
}
